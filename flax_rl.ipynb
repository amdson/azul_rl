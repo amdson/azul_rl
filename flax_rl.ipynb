{
 "cells": [
  {
   "cell_type": "code",
   "execution_count": 55,
   "metadata": {},
   "outputs": [],
   "source": [
    "import matplotlib.pyplot as plt\n",
    "\n",
    "def init_board():\n",
    "  return jnp.zeros((4, 4), dtype=int)\n",
    "\n",
    "def flip_board(board):\n",
    "  return -board\n",
    "\n",
    "def valid_mask(board):\n",
    "  return board == 0\n",
    "\n",
    "#Always assume action is made by player 1\n",
    "def next_state(board, action):\n",
    "  return board.flatten().at[action].add(1).reshape(board.shape)\n",
    "\n",
    "def sample_action(action_dist, rng):\n",
    "  action_dist = action_dist.flatten() / action_dist.sum()\n",
    "  return jax.random.choice(rng, jnp.arange(action_dist.shape[0]), p=action_dist)\n",
    "\n",
    "def disp_board(board):\n",
    "  plt.imshow(board)\n",
    "\n",
    "reward_conv = nn.Conv(features=3, kernel_size=(3, 3), use_bias=False, padding='SAME')\n",
    "stripe_filter = jnp.array([[0, 0, 0], [1, 1, 1], [0, 0, 0]])\n",
    "conv_param = {'params': {'kernel': jnp.expand_dims(jnp.stack([jnp.eye(3), stripe_filter, stripe_filter.T]), 2)}}\n",
    "\n",
    "def get_reward(board, conv_param):\n",
    "    board_score = reward_conv.apply(conv_param, jnp.expand_dims(board, (0, 3)))\n",
    "    is_win = (jnp.max(board_score) >= 3).astype(int)\n",
    "    is_loss = (jnp.min(board_score) <= -3).astype(int)\n",
    "    return is_win - is_loss"
   ]
  },
  {
   "cell_type": "code",
   "execution_count": 56,
   "metadata": {},
   "outputs": [
    {
     "name": "stdout",
     "output_type": "stream",
     "text": [
      "Round 0\n",
      "[[ 0  0 -1  0]\n",
      " [ 0  0  0  0]\n",
      " [ 0  0  0  0]\n",
      " [ 0  0  0  0]]\n",
      "0\n",
      "Round 1\n",
      "[[ 0  0  1  0]\n",
      " [ 0  0  0  0]\n",
      " [ 0  0  0  0]\n",
      " [-1  0  0  0]]\n",
      "0\n",
      "Round 2\n",
      "[[ 0  0 -1  0]\n",
      " [ 0 -1  0  0]\n",
      " [ 0  0  0  0]\n",
      " [ 1  0  0  0]]\n",
      "0\n",
      "Round 3\n",
      "[[ 0  0  1  0]\n",
      " [-1  1  0  0]\n",
      " [ 0  0  0  0]\n",
      " [-1  0  0  0]]\n",
      "0\n",
      "Round 4\n",
      "[[ 0 -1 -1  0]\n",
      " [ 1 -1  0  0]\n",
      " [ 0  0  0  0]\n",
      " [ 1  0  0  0]]\n",
      "0\n",
      "Round 5\n",
      "[[ 0  1  1  0]\n",
      " [-1  1  0  0]\n",
      " [ 0  0  0  0]\n",
      " [-1  0  0 -1]]\n",
      "0\n",
      "Round 6\n",
      "[[ 0 -1 -1 -1]\n",
      " [ 1 -1  0  0]\n",
      " [ 0  0  0  0]\n",
      " [ 1  0  0  1]]\n",
      "0\n",
      "Round 7\n",
      "[[ 0  1  1  1]\n",
      " [-1  1  0  0]\n",
      " [ 0  0  0 -1]\n",
      " [-1  0  0 -1]]\n",
      "0\n",
      "Round 8\n",
      "[[ 0 -1 -1 -1]\n",
      " [ 1 -1  0  0]\n",
      " [ 0  0  0  1]\n",
      " [ 1 -1  0  1]]\n",
      "0\n",
      "Round 9\n",
      "[[ 0  1  1  1]\n",
      " [-1  1  0  0]\n",
      " [-1  0  0 -1]\n",
      " [-1  1  0 -1]]\n",
      "0\n"
     ]
    },
    {
     "data": {
      "image/png": "[encoded data removed]",
      "text/plain": [
       "<Figure size 640x480 with 1 Axes>"
      ]
     },
     "metadata": {},
     "output_type": "display_data"
    }
   ],
   "source": [
    "board = init_board()\n",
    "\n",
    "rng = jax.random.PRNGKey(41)\n",
    "for i in range(10):\n",
    "  _, rng = jax.random.split(rng, 2)\n",
    "  action_dist = jnp.ones(board.shape) * valid_mask(board)\n",
    "  next_action = sample_action(action_dist, rng)\n",
    "  board = flip_board(next_state(board, next_action))\n",
    "  print(f\"Round {i}\")\n",
    "  print(board)\n",
    "  reward = get_reward(board, conv_param)\n",
    "  print(reward)\n",
    "  if(reward != 0):\n",
    "      break\n",
    "  \n",
    "disp_board(board)"
   ]
  },
  {
   "cell_type": "code",
   "execution_count": 32,
   "metadata": {},
   "outputs": [],
   "source": [
    "import jax\n",
    "import jax.numpy as jnp                # JAX NumPy\n",
    "\n",
    "from flax import linen as nn           # The Linen API\n",
    "from flax import traverse_util\n",
    "from flax.training import train_state  # Useful dataclass to keep train state\n",
    "\n",
    "import numpy as np                     # Ordinary NumPy\n",
    "import optax                           # Optimizers"
   ]
  },
  {
   "cell_type": "code",
   "execution_count": 31,
   "metadata": {},
   "outputs": [
    {
     "data": {
      "text/plain": [
       "(10, 10, 3)"
      ]
     },
     "execution_count": 31,
     "metadata": {},
     "output_type": "execute_result"
    }
   ],
   "source": [
    "\n",
    "\n",
    "rng = jax.random.PRNGKey(42)\n",
    "rng, inp_rng, init_rng = jax.random.split(rng, 3)\n",
    "inp = jnp.zeros((10, 10, 1))\n",
    "\n",
    "# params = conv.init(init_rng, inp)\n",
    "# print(jax.tree_util.tree_map(jnp.shape, params))\n",
    "\n",
    "\n"
   ]
  },
  {
   "cell_type": "code",
   "execution_count": null,
   "metadata": {},
   "outputs": [],
   "source": [
    "class CNN(nn.Module):\n",
    "  \"\"\"A simple CNN model.\"\"\"\n",
    "\n",
    "  @nn.compact\n",
    "  def __call__(self, x):\n",
    "    x = nn.Conv(features=32, kernel_size=(3, 3))(x)\n",
    "    return x\n",
    "\n",
    "cnn = CNN()\n",
    "params = cnn.init(rng, jnp.ones([1, 28, 28, 1]))['params']"
   ]
  }
 ],
 "metadata": {
  "interpreter": {
   "hash": "d1c2c9eb50c248e284b0bf4da0c34373df9866a584f49a897fbedf2615d148e7"
  },
  "kernelspec": {
   "display_name": "Python 3.9.15 ('azur_rl')",
   "language": "python",
   "name": "python3"
  },
  "language_info": {
   "codemirror_mode": {
    "name": "ipython",
    "version": 3
   },
   "file_extension": ".py",
   "mimetype": "text/x-python",
   "name": "python",
   "nbconvert_exporter": "python",
   "pygments_lexer": "ipython3",
   "version": "3.9.15"
  },
  "orig_nbformat": 4
 },
 "nbformat": 4,
 "nbformat_minor": 2
}
