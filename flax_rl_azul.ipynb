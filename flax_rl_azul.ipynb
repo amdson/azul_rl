{
  "cells": [
    {
      "cell_type": "code",
      "source": [
        "!pip install flax\n",
        "!pip install colorama\n",
        "%load_ext autoreload\n",
        "%autoreload 2"
      ],
      "metadata": {
        "colab": {
          "base_uri": "https://localhost:8080/"
        },
        "id": "npn6P-APpaIz",
        "outputId": "3a1531a0-e385-400d-9239-dcad071d764b"
      },
      "execution_count": 1,
      "outputs": [
        {
          "output_type": "stream",
          "name": "stdout",
          "text": [
            "Looking in indexes: https://pypi.org/simple, https://us-python.pkg.dev/colab-wheels/public/simple/\n",
            "Collecting flax\n",
            "  Downloading flax-0.6.2-py3-none-any.whl (189 kB)\n",
            "\u001b[K     |████████████████████████████████| 189 kB 5.6 MB/s \n",
            "\u001b[?25hRequirement already satisfied: jax>=0.3.16 in /usr/local/lib/python3.8/dist-packages (from flax) (0.3.25)\n",
            "Requirement already satisfied: numpy>=1.12 in /usr/local/lib/python3.8/dist-packages (from flax) (1.21.6)\n",
            "Requirement already satisfied: matplotlib in /usr/local/lib/python3.8/dist-packages (from flax) (3.2.2)\n",
            "Collecting tensorstore\n",
            "  Downloading tensorstore-0.1.28-cp38-cp38-manylinux_2_17_x86_64.manylinux2014_x86_64.whl (8.3 MB)\n",
            "\u001b[K     |████████████████████████████████| 8.3 MB 43.1 MB/s \n",
            "\u001b[?25hRequirement already satisfied: typing-extensions>=4.1.1 in /usr/local/lib/python3.8/dist-packages (from flax) (4.1.1)\n",
            "Collecting rich>=11.1\n",
            "  Downloading rich-12.6.0-py3-none-any.whl (237 kB)\n",
            "\u001b[K     |████████████████████████████████| 237 kB 59.2 MB/s \n",
            "\u001b[?25hCollecting optax\n",
            "  Downloading optax-0.1.4-py3-none-any.whl (154 kB)\n",
            "\u001b[K     |████████████████████████████████| 154 kB 53.7 MB/s \n",
            "\u001b[?25hRequirement already satisfied: msgpack in /usr/local/lib/python3.8/dist-packages (from flax) (1.0.4)\n",
            "Requirement already satisfied: PyYAML>=5.4.1 in /usr/local/lib/python3.8/dist-packages (from flax) (6.0)\n",
            "Requirement already satisfied: opt-einsum in /usr/local/lib/python3.8/dist-packages (from jax>=0.3.16->flax) (3.3.0)\n",
            "Requirement already satisfied: scipy>=1.5 in /usr/local/lib/python3.8/dist-packages (from jax>=0.3.16->flax) (1.7.3)\n",
            "Requirement already satisfied: pygments<3.0.0,>=2.6.0 in /usr/local/lib/python3.8/dist-packages (from rich>=11.1->flax) (2.6.1)\n",
            "Collecting commonmark<0.10.0,>=0.9.0\n",
            "  Downloading commonmark-0.9.1-py2.py3-none-any.whl (51 kB)\n",
            "\u001b[K     |████████████████████████████████| 51 kB 5.9 MB/s \n",
            "\u001b[?25hRequirement already satisfied: python-dateutil>=2.1 in /usr/local/lib/python3.8/dist-packages (from matplotlib->flax) (2.8.2)\n",
            "Requirement already satisfied: kiwisolver>=1.0.1 in /usr/local/lib/python3.8/dist-packages (from matplotlib->flax) (1.4.4)\n",
            "Requirement already satisfied: cycler>=0.10 in /usr/local/lib/python3.8/dist-packages (from matplotlib->flax) (0.11.0)\n",
            "Requirement already satisfied: pyparsing!=2.0.4,!=2.1.2,!=2.1.6,>=2.0.1 in /usr/local/lib/python3.8/dist-packages (from matplotlib->flax) (3.0.9)\n",
            "Requirement already satisfied: six>=1.5 in /usr/local/lib/python3.8/dist-packages (from python-dateutil>=2.1->matplotlib->flax) (1.15.0)\n",
            "Requirement already satisfied: absl-py>=0.7.1 in /usr/local/lib/python3.8/dist-packages (from optax->flax) (1.3.0)\n",
            "Collecting chex>=0.1.5\n",
            "  Downloading chex-0.1.5-py3-none-any.whl (85 kB)\n",
            "\u001b[K     |████████████████████████████████| 85 kB 4.0 MB/s \n",
            "\u001b[?25hRequirement already satisfied: jaxlib>=0.1.37 in /usr/local/lib/python3.8/dist-packages (from optax->flax) (0.3.25+cuda11.cudnn805)\n",
            "Requirement already satisfied: dm-tree>=0.1.5 in /usr/local/lib/python3.8/dist-packages (from chex>=0.1.5->optax->flax) (0.1.7)\n",
            "Requirement already satisfied: toolz>=0.9.0 in /usr/local/lib/python3.8/dist-packages (from chex>=0.1.5->optax->flax) (0.12.0)\n",
            "Installing collected packages: commonmark, chex, tensorstore, rich, optax, flax\n",
            "Successfully installed chex-0.1.5 commonmark-0.9.1 flax-0.6.2 optax-0.1.4 rich-12.6.0 tensorstore-0.1.28\n",
            "Looking in indexes: https://pypi.org/simple, https://us-python.pkg.dev/colab-wheels/public/simple/\n",
            "Collecting colorama\n",
            "  Downloading colorama-0.4.6-py2.py3-none-any.whl (25 kB)\n",
            "Installing collected packages: colorama\n",
            "Successfully installed colorama-0.4.6\n"
          ]
        }
      ]
    },
    {
      "cell_type": "code",
      "execution_count": 2,
      "metadata": {
        "colab": {
          "base_uri": "https://localhost:8080/"
        },
        "id": "9Z_t1dYApP59",
        "outputId": "055a29ee-1bb4-453c-a36c-8be027fbd480"
      },
      "outputs": [
        {
          "output_type": "stream",
          "name": "stderr",
          "text": [
            "WARNING:jax._src.lib.xla_bridge:No GPU/TPU found, falling back to CPU. (Set TF_CPP_MIN_LOG_LEVEL=0 and rerun for more info.)\n"
          ]
        }
      ],
      "source": [
        "import jax\n",
        "import jax.numpy as jnp                # JAX NumPy\n",
        "\n",
        "from flax import linen as nn           # The Linen API\n",
        "from flax import traverse_util\n",
        "from flax.training import train_state  # Useful dataclass to keep train state\n",
        "\n",
        "import numpy as np                     # Ordinary NumPy\n",
        "import optax                           # Optimizers\n",
        "import matplotlib.pyplot as plt\n",
        "import networkx as nx\n",
        "\n",
        "def init_board():\n",
        "  return np.zeros((3, 3), dtype=int).flatten()\n",
        "\n",
        "def flip_board(board):\n",
        "  return -board\n",
        "\n",
        "def get_valid_mask(board):\n",
        "  return board == 0\n",
        "\n",
        "# #Always assume action is made by player 1\n",
        "# def get_next_state(board, action):\n",
        "#   return board.flatten().at[action].add(1).reshape(board.shape)\n",
        "\n",
        "#Always assume action is made by player 1\n",
        "#Assume action is valid\n",
        "def get_next_state(board, action):\n",
        "  if(board[action] == 1 or board[action] == -1):\n",
        "    print(\"Illegal Move\")\n",
        "    print(board.reshape((3,3)))\n",
        "    print(action)\n",
        "    print(get_reward(board))\n",
        "    assert False\n",
        "  next_board = board.copy()\n",
        "  next_board[action] = 1\n",
        "  return next_board\n",
        "\n",
        "def sample_action(action_dist):\n",
        "  action_dist = action_dist.flatten() / action_dist.sum()\n",
        "  return np.random.choice(action_dist.shape[0], p=action_dist)\n",
        "\n",
        "def disp_board(board):\n",
        "  plt.imshow(board)\n",
        "\n",
        "reward_conv = nn.Conv(features=4, kernel_size=(3, 3), use_bias=False, padding='SAME')\n",
        "stripe_filter = jnp.array([[0, 0, 0], [1, 1, 1], [0, 0, 0]])\n",
        "reward_kernel = jnp.expand_dims(jnp.stack([jnp.eye(3), jnp.eye(3)[::-1, :], stripe_filter, stripe_filter.T], axis=2), 2)\n",
        "\n",
        "reward_conv_param = {'params': {'kernel': reward_kernel}}\n",
        "# print(jnp.expand_dims(jnp.eye(4), (0, 3)))\n",
        "\n",
        "def get_reward(board):\n",
        "    board_score = reward_conv.apply(reward_conv_param, jnp.expand_dims(jnp.array(board).reshape((3, 3)), (0, 3)))\n",
        "    # print(jnp.transpose(board_score[0]))\n",
        "    is_win = (jnp.max(board_score) >= 3).astype(int)\n",
        "    is_loss = (jnp.min(board_score) <= -3).astype(int)\n",
        "    score = float(is_win - is_loss)\n",
        "    return score, (is_win >= 1 or is_loss >= 1 or ((board == 0).sum() == 0))"
      ]
    },
    {
      "cell_type": "code",
      "execution_count": 3,
      "metadata": {
        "id": "Nxqg0hvHpP6C"
      },
      "outputs": [],
      "source": [
        "diag_mask = np.eye(3)\n",
        "ld_mask = np.eye(3)[::-1, :]\n",
        "def get_reward(board): #Assume move and flip, so board can only be lost\n",
        "    b = board.reshape((3,3))\n",
        "    diag = np.sum(diag_mask*b) <= -3\n",
        "    diag_l = np.sum(ld_mask*b) <= -3\n",
        "    row = np.min(b@np.ones(3)) <= -3\n",
        "    col = np.min(b.T@np.ones(3)) <= -3\n",
        "    reward = -int(diag or diag_l or row or col)\n",
        "    return reward, (reward != 0 or (board == 0).sum() == 0)\n"
      ]
    },
    {
      "cell_type": "code",
      "execution_count": 37,
      "metadata": {
        "id": "V09aH5pTpP6F"
      },
      "outputs": [],
      "source": [
        "# RUNNING THIS CELL OVERWRITES THE ABOVE TICTACTOE FUNCTIONS WITH THEIR AZUL COUNTERPARTS\n",
        "import Azul_Simulator\n",
        "rng_azul = np.random.default_rng(6546547)\n",
        "\n",
        "def azul_init_board():\n",
        "  return Azul_Simulator.init_board(rng_azul)\n",
        "\n",
        "def azul_get_next_state(board, action):\n",
        "  return Azul_Simulator.get_next_state(board, action, rng_azul)\n",
        "\n",
        "init_board = azul_init_board\n",
        "flip_board = Azul_Simulator.flip_board\n",
        "get_valid_mask = Azul_Simulator.get_valid_mask\n",
        "get_next_state = azul_get_next_state\n",
        "get_reward = Azul_Simulator.get_reward\n",
        "disp_board = Azul_Simulator.disp_board"
      ]
    },
    {
      "cell_type": "code",
      "execution_count": 5,
      "metadata": {
        "id": "8miWJ_xhpP6H"
      },
      "outputs": [],
      "source": [
        "\n",
        "# rng = jax.random.PRNGKey(40)\n",
        "for i in range(200):\n",
        "  board = init_board()\n",
        "  for i in range(10):\n",
        "    # _, rng = jax.random.split(rng, 2)\n",
        "    action_dist = np.ones(181) * get_valid_mask(board)\n",
        "    next_action = sample_action(action_dist)\n",
        "    # print(board.reshape((3,3)), next_action)\n",
        "    board = flip_board(get_next_state(board, next_action))\n",
        "    reward, game_over = get_reward(board)\n",
        "    if(game_over):\n",
        "      break\n",
        "#print(board.reshape((3, 3)), reward, game_over)"
      ]
    },
    {
      "cell_type": "code",
      "execution_count": 6,
      "metadata": {
        "id": "fA4aP-VGpP6J"
      },
      "outputs": [],
      "source": [
        "def toy_model(state):\n",
        "    return np.ones(ACTION_DIM) / ACTION_DIM, 0.1"
      ]
    },
    {
      "cell_type": "code",
      "execution_count": 35,
      "metadata": {
        "colab": {
          "base_uri": "https://localhost:8080/"
        },
        "id": "KUBU22cppP6J",
        "outputId": "7b044abb-3ce2-4ed4-f185-ab382c93b817"
      },
      "outputs": [
        {
          "output_type": "stream",
          "name": "stdout",
          "text": [
            "Finished mcts\n"
          ]
        }
      ],
      "source": [
        "\n",
        "STATE_DIM = 157\n",
        "ACTION_DIM = 181\n",
        "MAX_SIZE = int(1e3)\n",
        "C_BASE, C_INIT = 1.0, 1.0\n",
        "class MCTS:\n",
        "    def __init__(self, max_size=MAX_SIZE):\n",
        "        self.state = np.zeros((max_size, STATE_DIM))\n",
        "        self.state_lookup = {} #Maps state representation to index\n",
        "        self.expanded = []\n",
        "\n",
        "        self.visit_count = np.zeros(max_size)\n",
        "        self.action_visits  = np.zeros((max_size, ACTION_DIM), dtype=int)\n",
        "        self.action_total_value = np.zeros((max_size, ACTION_DIM))\n",
        "        self.action_mean_value = np.zeros((max_size, ACTION_DIM))\n",
        "        self.action_prior = np.zeros((max_size, ACTION_DIM))\n",
        "        # self.action_children = np.zeros((MAX_SIZE, ACTION_DIM), dtype=int) - 1\n",
        "    \n",
        "    #Assumes state is already expanded, and uses MCTS info to pick best action\n",
        "    def select_action(self, state, state_index):\n",
        "        state_visits = self.visit_count[state_index]\n",
        "        exp_rate = np.log((1+state_visits + C_BASE)/C_BASE) + C_INIT\n",
        "        model_prior = self.action_prior[state_index]\n",
        "        sa_visits = self.action_visits[state_index]\n",
        "        sa_mean_value = (1+self.action_mean_value[state_index])/2 #Normalize to [0, 1]\n",
        "        action_distr = (sa_mean_value + exp_rate*np.sqrt(state_visits)*model_prior/(1+sa_visits))*get_valid_mask(state)\n",
        "        action = np.argmax(action_distr)\n",
        "        # print(state[action])\n",
        "        if get_valid_mask(state)[action] == 0: # CHANGED!\n",
        "            print(\"State:\")\n",
        "            disp_board(state)\n",
        "            print(\"action\", action)\n",
        "            print(\"exp rate\", exp_rate)\n",
        "            print(\"sa mean value\", sa_mean_value, sa_visits)\n",
        "            print(\"action distr\", action_distr)\n",
        "            print(\"model prior\", model_prior)\n",
        "            print(\"action_mask\", get_valid_mask(state))\n",
        "        return action\n",
        "\n",
        "    def get_action_prob(self, state_index, temperature=1):\n",
        "        \"\"\"\n",
        "        Select action according to the visit count distribution and the temperature.\n",
        "        \"\"\"\n",
        "        action_visits = self.action_visits[state_index]\n",
        "        if temperature == 0:\n",
        "            a = np.argmax(action_visits)\n",
        "            r = np.zeros(action_visits.shape)\n",
        "            r[a] = 1.0\n",
        "            return r\n",
        "        elif temperature == float(\"inf\"):\n",
        "            return np.ones(action_visits.shape)/action_visits.shape[0]\n",
        "        else:\n",
        "            # See paper appendix Data Generation\n",
        "            visit_count_distribution = np.power(action_visits, 1 / temperature)\n",
        "            visit_count_distribution = visit_count_distribution / sum(visit_count_distribution)\n",
        "            return visit_count_distribution\n",
        "            \n",
        "    def expand_node(self, state, action_probs):\n",
        "        state_index = len(self.expanded)\n",
        "        # print(\"state index\", state_index)\n",
        "        self.expanded.append(True)\n",
        "        self.state_lookup[state.tobytes()] = state_index\n",
        "\n",
        "        self.state[state_index] = state\n",
        "        self.visit_count[state_index] += 1\n",
        "        # print(self.action_prior[state_index].shape, action_probs.shape)\n",
        "        self.action_prior[state_index] = action_probs\n",
        "        return state_index\n",
        "\n",
        "    def search_iter(self, state_index, model):\n",
        "        search_path = []\n",
        "        path_actions = []\n",
        "\n",
        "        curr_index = state_index\n",
        "        curr_state = self.state[state_index]\n",
        "\n",
        "        # Loop until reaching an untracked state\n",
        "        while curr_index >= 0:\n",
        "            search_path.append(curr_index)\n",
        "            action = self.select_action(curr_state, curr_index)\n",
        "            path_actions.append(action)\n",
        "            curr_state = flip_board(get_next_state(curr_state, action))\n",
        "            nsr = curr_state.tobytes()\n",
        "            if(nsr in self.state_lookup):\n",
        "                curr_index = self.state_lookup[nsr]\n",
        "            else:\n",
        "                curr_index = -1\n",
        "\n",
        "        # The value of the new state from the perspective of the other player\n",
        "        next_state = curr_state\n",
        "        value, game_over = get_reward(next_state)\n",
        "        value = -value\n",
        "        if not game_over:\n",
        "            # If the game has not ended:\n",
        "            # EXPAND\n",
        "            action_probs, value = model(next_state)\n",
        "            valid_moves = get_valid_mask(next_state)\n",
        "            action_probs = action_probs * valid_moves  # mask invalid moves\n",
        "            action_probs /= np.sum(action_probs)\n",
        "            self.expand_node(next_state, action_probs)\n",
        "        \n",
        "        #Backpropagate MCTS search path\n",
        "        for i in range(len(search_path)-1, -1, -1):\n",
        "            si, a = search_path[i], path_actions[i]\n",
        "            self.visit_count[si] += 1\n",
        "            self.action_visits[si, a] += 1\n",
        "            self.action_total_value[si, a] += value\n",
        "            self.action_mean_value[si, a] = self.action_total_value[si, a] / self.action_visits[si, a]\n",
        "            value *= -1\n",
        "\n",
        "        # print(\"search path\", search_path)\n",
        "        # print(\"search visits after update\", [self.visit_count[s] for s in search_path])\n",
        "        \n",
        "    def mcts_eval(self, state, model, num_sims):\n",
        "        # print(\"Expanded len\", len(self.expanded))\n",
        "        root_state = state\n",
        "        action_prior, value_est = model(root_state)\n",
        "        root_index = self.expand_node(root_state, action_prior)\n",
        "        # print(\"Root index\", root_index)\n",
        "        for _ in range(num_sims):\n",
        "            self.search_iter(root_index, model)\n",
        "        return root_index\n",
        "    \n",
        "    def print_tree(self, root_index=0):\n",
        "        for state_index in self.state_lookup.values():\n",
        "            state = self.state[state_index]\n",
        "            #print(state.reshape((3, 3))) # CHANGED!\n",
        "            visited_actions = self.action_visits[state_index].nonzero()[0]\n",
        "            action_values = self.action_mean_value[state_index, visited_actions]\n",
        "            print(\"Action\", visited_actions)\n",
        "            print(\"Action value\", action_values)\n",
        "\n",
        "    def visualize_tree(self):\n",
        "        G = nx.Graph()\n",
        "        node_labels = {}\n",
        "        edge_labels = {}\n",
        "        for state_index in self.state_lookup.values():\n",
        "            visited_actions = self.action_visits[state_index].nonzero()[0]\n",
        "            action_values = self.action_mean_value[state_index, visited_actions]\n",
        "            state = self.state[state_index]\n",
        "            for action, value in zip(visited_actions, action_values):\n",
        "                child_state = flip_board(get_next_state(state, action))\n",
        "                # print(child_state.reshape((4,4)))\n",
        "                child_index = self.state_lookup[child_state.tobytes()]\n",
        "                G.add_edge(state_index, child_index)\n",
        "                edge_labels[(state_index, child_index)] = value\n",
        "            node_labels[state_index] = f\"{state_index}, {self.action_visits[state_index].sum()}\" \n",
        "        \n",
        "        pos = nx.spring_layout(G)\n",
        "        plt.figure()\n",
        "        nx.draw(\n",
        "            G, pos, edge_color='black', width=1, linewidths=1, node_size=10, \n",
        "            node_color='pink', alpha=0.9,\n",
        "            # labels=node_labels\n",
        "        )\n",
        "        # nx.draw_networkx_edge_labels(\n",
        "        #     G, pos,\n",
        "        #     edge_labels=edge_labels,\n",
        "        #     font_color='red'\n",
        "        # )\n",
        "        plt.axis('off')\n",
        "        plt.show()\n",
        "\n",
        "# root_state = np.array([-1, 1, 0, 0, 0, 0, -1, 1, 0])\n",
        "# print(root_state.reshape((3, 3)))\n",
        "# root_state[:2] = 1\n",
        "root_state = init_board() # CHANGED!\n",
        "mcts = MCTS(max_size=5001)\n",
        "mcts.mcts_eval(root_state, toy_model, 5000)\n",
        "print(\"Finished mcts\")\n",
        "# mcts.visualize_tree()"
      ]
    },
    {
      "cell_type": "code",
      "execution_count": 8,
      "metadata": {
        "colab": {
          "base_uri": "https://localhost:8080/",
          "height": 354
        },
        "id": "vftnJ9pKpP6L",
        "outputId": "e0e70484-0984-4d1b-c718-45ff900ceda2"
      },
      "outputs": [
        {
          "output_type": "error",
          "ename": "ValueError",
          "evalue": "ignored",
          "traceback": [
            "\u001b[0;31m---------------------------------------------------------------------------\u001b[0m",
            "\u001b[0;31mValueError\u001b[0m                                Traceback (most recent call last)",
            "\u001b[0;32m<ipython-input-8-2348832e0929>\u001b[0m in \u001b[0;36m<module>\u001b[0;34m\u001b[0m\n\u001b[1;32m      1\u001b[0m \u001b[0mroot_state\u001b[0m \u001b[0;34m=\u001b[0m \u001b[0mnp\u001b[0m\u001b[0;34m.\u001b[0m\u001b[0marray\u001b[0m\u001b[0;34m(\u001b[0m\u001b[0;34m[\u001b[0m\u001b[0;36m1\u001b[0m\u001b[0;34m,\u001b[0m \u001b[0;34m-\u001b[0m\u001b[0;36m1\u001b[0m\u001b[0;34m,\u001b[0m  \u001b[0;36m1\u001b[0m\u001b[0;34m,\u001b[0m \u001b[0;34m-\u001b[0m\u001b[0;36m1\u001b[0m\u001b[0;34m,\u001b[0m \u001b[0;34m-\u001b[0m\u001b[0;36m1\u001b[0m\u001b[0;34m,\u001b[0m  \u001b[0;36m1\u001b[0m\u001b[0;34m,\u001b[0m \u001b[0;34m-\u001b[0m\u001b[0;36m1\u001b[0m\u001b[0;34m,\u001b[0m  \u001b[0;36m0\u001b[0m\u001b[0;34m,\u001b[0m \u001b[0;36m0\u001b[0m\u001b[0;34m]\u001b[0m\u001b[0;34m)\u001b[0m\u001b[0;34m\u001b[0m\u001b[0;34m\u001b[0m\u001b[0m\n\u001b[1;32m      2\u001b[0m \u001b[0mmcts\u001b[0m \u001b[0;34m=\u001b[0m \u001b[0mMCTS\u001b[0m\u001b[0;34m(\u001b[0m\u001b[0mmax_size\u001b[0m\u001b[0;34m=\u001b[0m\u001b[0;36m5000\u001b[0m\u001b[0;34m)\u001b[0m\u001b[0;34m\u001b[0m\u001b[0;34m\u001b[0m\u001b[0m\n\u001b[0;32m----> 3\u001b[0;31m \u001b[0mmcts\u001b[0m\u001b[0;34m.\u001b[0m\u001b[0mmcts_eval\u001b[0m\u001b[0;34m(\u001b[0m\u001b[0mroot_state\u001b[0m\u001b[0;34m,\u001b[0m \u001b[0mtoy_model\u001b[0m\u001b[0;34m,\u001b[0m \u001b[0;36m5000\u001b[0m\u001b[0;34m)\u001b[0m\u001b[0;34m\u001b[0m\u001b[0;34m\u001b[0m\u001b[0m\n\u001b[0m",
            "\u001b[0;32m<ipython-input-7-91df2df46f7e>\u001b[0m in \u001b[0;36mmcts_eval\u001b[0;34m(self, state, model, num_sims)\u001b[0m\n\u001b[1;32m    114\u001b[0m         \u001b[0mroot_state\u001b[0m \u001b[0;34m=\u001b[0m \u001b[0mstate\u001b[0m\u001b[0;34m\u001b[0m\u001b[0;34m\u001b[0m\u001b[0m\n\u001b[1;32m    115\u001b[0m         \u001b[0maction_prior\u001b[0m\u001b[0;34m,\u001b[0m \u001b[0mvalue_est\u001b[0m \u001b[0;34m=\u001b[0m \u001b[0mmodel\u001b[0m\u001b[0;34m(\u001b[0m\u001b[0mroot_state\u001b[0m\u001b[0;34m)\u001b[0m\u001b[0;34m\u001b[0m\u001b[0;34m\u001b[0m\u001b[0m\n\u001b[0;32m--> 116\u001b[0;31m         \u001b[0mroot_index\u001b[0m \u001b[0;34m=\u001b[0m \u001b[0mself\u001b[0m\u001b[0;34m.\u001b[0m\u001b[0mexpand_node\u001b[0m\u001b[0;34m(\u001b[0m\u001b[0mroot_state\u001b[0m\u001b[0;34m,\u001b[0m \u001b[0maction_prior\u001b[0m\u001b[0;34m)\u001b[0m\u001b[0;34m\u001b[0m\u001b[0;34m\u001b[0m\u001b[0m\n\u001b[0m\u001b[1;32m    117\u001b[0m         \u001b[0;31m# print(\"Root index\", root_index)\u001b[0m\u001b[0;34m\u001b[0m\u001b[0;34m\u001b[0m\u001b[0;34m\u001b[0m\u001b[0m\n\u001b[1;32m    118\u001b[0m         \u001b[0;32mfor\u001b[0m \u001b[0m_\u001b[0m \u001b[0;32min\u001b[0m \u001b[0mrange\u001b[0m\u001b[0;34m(\u001b[0m\u001b[0mnum_sims\u001b[0m\u001b[0;34m)\u001b[0m\u001b[0;34m:\u001b[0m\u001b[0;34m\u001b[0m\u001b[0;34m\u001b[0m\u001b[0m\n",
            "\u001b[0;32m<ipython-input-7-91df2df46f7e>\u001b[0m in \u001b[0;36mexpand_node\u001b[0;34m(self, state, action_probs)\u001b[0m\n\u001b[1;32m     60\u001b[0m         \u001b[0mself\u001b[0m\u001b[0;34m.\u001b[0m\u001b[0mstate_lookup\u001b[0m\u001b[0;34m[\u001b[0m\u001b[0mstate\u001b[0m\u001b[0;34m.\u001b[0m\u001b[0mtobytes\u001b[0m\u001b[0;34m(\u001b[0m\u001b[0;34m)\u001b[0m\u001b[0;34m]\u001b[0m \u001b[0;34m=\u001b[0m \u001b[0mstate_index\u001b[0m\u001b[0;34m\u001b[0m\u001b[0;34m\u001b[0m\u001b[0m\n\u001b[1;32m     61\u001b[0m \u001b[0;34m\u001b[0m\u001b[0m\n\u001b[0;32m---> 62\u001b[0;31m         \u001b[0mself\u001b[0m\u001b[0;34m.\u001b[0m\u001b[0mstate\u001b[0m\u001b[0;34m[\u001b[0m\u001b[0mstate_index\u001b[0m\u001b[0;34m]\u001b[0m \u001b[0;34m=\u001b[0m \u001b[0mstate\u001b[0m\u001b[0;34m\u001b[0m\u001b[0;34m\u001b[0m\u001b[0m\n\u001b[0m\u001b[1;32m     63\u001b[0m         \u001b[0mself\u001b[0m\u001b[0;34m.\u001b[0m\u001b[0mvisit_count\u001b[0m\u001b[0;34m[\u001b[0m\u001b[0mstate_index\u001b[0m\u001b[0;34m]\u001b[0m \u001b[0;34m+=\u001b[0m \u001b[0;36m1\u001b[0m\u001b[0;34m\u001b[0m\u001b[0;34m\u001b[0m\u001b[0m\n\u001b[1;32m     64\u001b[0m         \u001b[0;31m# print(self.action_prior[state_index].shape, action_probs.shape)\u001b[0m\u001b[0;34m\u001b[0m\u001b[0;34m\u001b[0m\u001b[0;34m\u001b[0m\u001b[0m\n",
            "\u001b[0;31mValueError\u001b[0m: could not broadcast input array from shape (9,) into shape (157,)"
          ]
        }
      ],
      "source": [
        "root_state = np.array([1, -1,  1, -1, -1,  1, -1,  0, 0])\n",
        "mcts = MCTS(max_size=5000)\n",
        "mcts.mcts_eval(root_state, toy_model, 5000)"
      ]
    },
    {
      "cell_type": "code",
      "execution_count": null,
      "metadata": {
        "id": "JQpgK_STpP6M",
        "outputId": "ff5552fd-97b0-4b42-d31b-8c9e95a1bb1f"
      },
      "outputs": [
        {
          "name": "stdout",
          "output_type": "stream",
          "text": [
            "[[ 1. -1.  1.]\n",
            " [-1. -1.  1.]\n",
            " [-1.  0. -1.]]\n",
            "[[0. 0. 0.]\n",
            " [0. 0. 0.]\n",
            " [0. 0. 0.]]\n"
          ]
        }
      ],
      "source": [
        "print(mcts.state[0].reshape((3,3)))\n",
        "print(mcts.action_mean_value[0].reshape((3,3)))\n"
      ]
    },
    {
      "cell_type": "code",
      "execution_count": 22,
      "metadata": {
        "id": "UeKS5bp5pP6N"
      },
      "outputs": [],
      "source": [
        "def self_play_episode(model, num_sims=50, temp_threshold=6):\n",
        "    train_examples = []\n",
        "    board = init_board()\n",
        "    step = 0\n",
        "    while True:\n",
        "        mcts = MCTS(max_size=1001)\n",
        "        root_index = mcts.mcts_eval(board, model, num_sims=num_sims)\n",
        "        # print(root_index, mcts.state[root_index].reshape((3,3)))\n",
        "        # print(board.reshape((3,3)))\n",
        "        # print(mcts.state[0].reshape((3,3)))\n",
        "        # print(mcts.action_visits[0].reshape((3,3)))\n",
        "        \n",
        "        temp = int(step < temp_threshold)\n",
        "        pi = mcts.get_action_prob(root_index, temperature=temp)\n",
        "\n",
        "\n",
        "        train_examples.append((board, pi, step))\n",
        "\n",
        "        action = np.random.choice(ACTION_DIM, p=pi)\n",
        "        # print(\"action\", action)\n",
        "\n",
        "        board = flip_board(get_next_state(board.astype(int), action))\n",
        "        #Reward is always negative because board is flipped after move. \n",
        "        r, game_over = get_reward(board) \n",
        "        if(game_over):\n",
        "            return [(b, p, (-1)**(step-s)) for b, p, s in train_examples]\n",
        "        step += 1\n",
        "\n",
        "def batch_examples(train_examples):\n",
        "    state_batch = jnp.stack([t[0] for t in train_examples])\n",
        "    pa_batch = jnp.stack([t[1] for t in train_examples])\n",
        "    r_batch = jnp.stack([t[2] for t in train_examples]).reshape((-1, 1))\n",
        "    return state_batch, pa_batch, r_batch\n",
        "\n",
        "train_examples = self_play_episode(toy_model, num_sims=1000)\n",
        "state_b, pa_b, r_b = batch_examples(train_examples)"
      ]
    },
    {
      "cell_type": "code",
      "execution_count": 30,
      "metadata": {
        "id": "yvPpIgVDpP6O"
      },
      "outputs": [],
      "source": [
        "from jax import jit\n",
        "\n",
        "class TTTModel(nn.Module):\n",
        "  \"\"\"A simple MLP model.\"\"\"\n",
        "\n",
        "  @nn.compact\n",
        "  def __call__(self, x):\n",
        "    x = nn.Dense(features=64)(x)\n",
        "    body = nn.Dense(features=32)(x)\n",
        "    x = nn.Dense(features=181)(body)\n",
        "    value = nn.tanh(nn.Dense(features=1)(body)) #Value estimate between -1 and 1\n",
        "    return x, value\n",
        "\n",
        "@jit\n",
        "def model_agent(x, params):\n",
        "  logits, value = TTTModel().apply(params, x)\n",
        "  return nn.softmax(logits), value\n",
        "\n",
        "model = TTTModel()\n",
        "rng = jax.random.PRNGKey(42)\n",
        "params = model.init(rng, init_board())\n",
        "# model.apply(params, state_b)[1].shape\n",
        "# model_agent(state_b, params)"
      ]
    },
    {
      "cell_type": "code",
      "execution_count": 31,
      "metadata": {
        "id": "8Q0nRwQLpP6P"
      },
      "outputs": [],
      "source": [
        "def create_train_state(rng, learning_rate, momentum):\n",
        "  \"\"\"Creates initial `TrainState`.\"\"\"\n",
        "  model = TTTModel()\n",
        "  params = model.init(rng, jnp.array(init_board()))['params']\n",
        "\n",
        "  tx = optax.sgd(learning_rate, momentum)\n",
        "  return train_state.TrainState.create(\n",
        "      apply_fn=model.apply, params=params, tx=tx)\n",
        "\n",
        "@jax.jit\n",
        "def train_step(state, state_b, pa_b, r_b):\n",
        "  \"\"\"Train for a single step.\"\"\"\n",
        "  def loss_fn(params):\n",
        "    logits, exp_value = TTTModel().apply({'params': params}, state_b)\n",
        "    loss = optax.softmax_cross_entropy(logits, pa_b).mean() + jnp.square(r_b - exp_value).mean()\n",
        "    return loss, (logits, exp_value)\n",
        "  grad_fn = jax.grad(loss_fn, has_aux=True)\n",
        "  grads, aux = grad_fn(state.params)\n",
        "  state = state.apply_gradients(grads=grads)\n",
        "  # metrics = compute_metrics(logits=logits, labels=batch['label'])\n",
        "  return state#, metrics\n",
        "\n",
        "# state = train_step(state, state_b, pa_b, r_b)"
      ]
    },
    {
      "cell_type": "code",
      "execution_count": 38,
      "metadata": {
        "colab": {
          "base_uri": "https://localhost:8080/",
          "height": 1000
        },
        "id": "s4PbvZZqpP6Q",
        "outputId": "137738a5-ffd1-42ab-bd8b-7207bbd8cf60"
      },
      "outputs": [
        {
          "output_type": "stream",
          "name": "stdout",
          "text": [
            "Batch 0\n",
            "Batch 1\n",
            "State:\n",
            "##############################################\n",
            "TABLE:\n",
            "----------------------------------------------\n",
            "Center:     \u001b[33mY\u001b[39m                       (no \u001b[34mB\u001b[39m\u001b[31mR\u001b[39m\u001b[30mD\u001b[39m\u001b[37mW\u001b[39m)\n",
            "Factory #1:                         (no \u001b[34mB\u001b[39m\u001b[33mY\u001b[39m\u001b[31mR\u001b[39m\u001b[30mD\u001b[39m\u001b[37mW\u001b[39m)\n",
            "Factory #2:                         (no \u001b[34mB\u001b[39m\u001b[33mY\u001b[39m\u001b[31mR\u001b[39m\u001b[30mD\u001b[39m\u001b[37mW\u001b[39m)\n",
            "Factory #3:                         (no \u001b[34mB\u001b[39m\u001b[33mY\u001b[39m\u001b[31mR\u001b[39m\u001b[30mD\u001b[39m\u001b[37mW\u001b[39m)\n",
            "Factory #4:                         (no \u001b[34mB\u001b[39m\u001b[33mY\u001b[39m\u001b[31mR\u001b[39m\u001b[30mD\u001b[39m\u001b[37mW\u001b[39m)\n",
            "Factory #5:                         (no \u001b[34mB\u001b[39m\u001b[33mY\u001b[39m\u001b[31mR\u001b[39m\u001b[30mD\u001b[39m\u001b[37mW\u001b[39m)\n",
            "----------------------------------------------\n",
            "\n",
            "COMPUTER: (score - -2)\n",
            "----------------------------------------------\n",
            "        \u001b[30mD\u001b[39m  | \u001b[34mB\u001b[39m \u001b[43mY\u001b[49m \u001b[31mR\u001b[39m \u001b[30mD\u001b[39m \u001b[37mW\u001b[39m \n",
            "      \u001b[31mR\u001b[39m \u001b[31mR\u001b[39m  | \u001b[37mW\u001b[39m \u001b[34mB\u001b[39m \u001b[33mY\u001b[39m \u001b[31mR\u001b[39m \u001b[30mD\u001b[39m \n",
            "    \u001b[30mD\u001b[39m \u001b[30mD\u001b[39m \u001b[30mD\u001b[39m  | \u001b[30mD\u001b[39m \u001b[37mW\u001b[39m \u001b[34mB\u001b[39m \u001b[43mY\u001b[49m \u001b[31mR\u001b[39m \n",
            "  _ _ _ \u001b[37mW\u001b[39m  | \u001b[31mR\u001b[39m \u001b[30mD\u001b[39m \u001b[37mW\u001b[39m \u001b[34mB\u001b[39m \u001b[43mY\u001b[49m \n",
            "\u001b[34mB\u001b[39m \u001b[34mB\u001b[39m \u001b[34mB\u001b[39m \u001b[34mB\u001b[39m \u001b[34mB\u001b[39m  | \u001b[33mY\u001b[39m \u001b[31mR\u001b[39m \u001b[30mD\u001b[39m \u001b[37mW\u001b[39m \u001b[34mB\u001b[39m \n",
            "\n",
            "Floor: \u001b[34mB\u001b[39m\u001b[34mB\u001b[39m\u001b[31mR\u001b[39m\u001b[31mR\u001b[39m\n",
            "----------------------------------------------\n",
            "\n",
            "PLAYER: (score - -14)\n",
            "----------------------------------------------\n",
            "        \u001b[33mY\u001b[39m  | \u001b[44mB\u001b[49m \u001b[33mY\u001b[39m \u001b[31mR\u001b[39m \u001b[40mD\u001b[49m \u001b[37mW\u001b[39m \n",
            "      _ \u001b[30mD\u001b[39m  | \u001b[47mW\u001b[49m \u001b[34mB\u001b[39m \u001b[43mY\u001b[49m \u001b[31mR\u001b[39m \u001b[30mD\u001b[39m \n",
            "    _ \u001b[30mD\u001b[39m \u001b[30mD\u001b[39m  | \u001b[30mD\u001b[39m \u001b[37mW\u001b[39m \u001b[34mB\u001b[39m \u001b[33mY\u001b[39m \u001b[31mR\u001b[39m \n",
            "  _ _ _ \u001b[30mD\u001b[39m  | \u001b[31mR\u001b[39m \u001b[30mD\u001b[39m \u001b[37mW\u001b[39m \u001b[34mB\u001b[39m \u001b[33mY\u001b[39m \n",
            "\u001b[37mW\u001b[39m \u001b[37mW\u001b[39m \u001b[37mW\u001b[39m \u001b[37mW\u001b[39m \u001b[37mW\u001b[39m  | \u001b[33mY\u001b[39m \u001b[31mR\u001b[39m \u001b[30mD\u001b[39m \u001b[37mW\u001b[39m \u001b[34mB\u001b[39m \n",
            "\n",
            "Floor: *1*\u001b[34mB\u001b[39m\u001b[31mR\u001b[39m\u001b[31mR\u001b[39m\u001b[37mW\u001b[39m\u001b[37mW\u001b[39m\u001b[37mW\u001b[39m\n",
            "----------------------------------------------\n",
            "##############################################\n",
            "action 0\n",
            "exp rate 2.09861228866811\n",
            "sa mean value [0.5 0.5 0.5 0.5 0.5 0.5 0.5 0.5 0.5 0.5 0.5 0.5 0.5 0.5 0.5 0.5 0.5 0.5\n",
            " 0.5 0.5 0.5 0.5 0.5 0.5 0.5 0.5 0.5 0.5 0.5 0.5 0.5 0.5 0.5 0.5 0.5 0.5\n",
            " 0.5 0.5 0.5 0.5 0.5 0.5 0.5 0.5 0.5 0.5 0.5 0.5 0.5 0.5 0.5 0.5 0.5 0.5\n",
            " 0.5 0.5 0.5 0.5 0.5 0.5 0.5 0.5 0.5 0.5 0.5 0.5 0.5 0.5 0.5 0.5 0.5 0.5\n",
            " 0.5 0.5 0.5 0.5 0.5 0.5 0.5 0.5 0.5 0.5 0.5 0.5 0.5 0.5 0.5 0.5 0.5 0.5\n",
            " 0.5 0.5 0.5 0.5 0.5 0.5 0.5 0.5 0.5 0.5 0.5 0.5 0.5 0.5 0.5 0.5 0.5 0.5\n",
            " 0.5 0.5 0.5 0.5 0.5 0.5 0.5 0.5 0.5 0.5 0.5 0.5 0.5 0.5 0.5 0.5 0.5 0.5\n",
            " 0.5 0.5 0.5 0.5 0.5 0.5 0.5 0.5 0.5 0.5 0.5 0.5 0.5 0.5 0.5 0.5 0.5 0.5\n",
            " 0.5 0.5 0.5 0.5 0.5 0.5 0.5 0.5 0.5 0.5 0.5 0.5 0.5 0.5 0.5 0.5 0.5 0.5\n",
            " 0.5 0.5 0.5 0.5 0.5 0.5 0.5 0.5 0.5 0.5 0.5 0.5 0.5 0.5 0.5 0.5 0.5 0.5\n",
            " 0.5] [0 0 0 0 0 0 0 0 0 0 0 0 0 0 0 0 0 0 0 0 0 0 0 0 0 0 0 0 0 0 0 0 0 0 0 0 0\n",
            " 0 0 0 0 0 0 0 0 0 0 0 0 0 0 0 0 0 0 0 0 0 0 0 0 0 0 0 0 0 0 0 0 0 0 0 0 0\n",
            " 0 0 0 0 0 0 0 0 0 0 0 0 0 0 0 0 0 0 0 0 0 0 0 0 0 0 0 0 0 0 0 0 0 0 0 0 0\n",
            " 0 0 0 0 0 0 0 0 0 0 0 0 0 0 0 0 0 0 0 0 0 0 0 0 0 0 0 0 0 0 0 0 0 0 0 0 0\n",
            " 0 0 0 0 0 0 0 0 0 0 0 0 0 0 0 0 0 0 0 0 0 0 0 0 0 0 0 0 0 0 0 0 0]\n",
            "action distr [nan nan nan nan nan nan nan nan nan nan nan nan nan nan nan nan nan nan\n",
            " nan nan nan nan nan nan nan nan nan nan nan nan nan nan nan nan nan nan\n",
            " nan nan nan nan nan nan nan nan nan nan nan nan nan nan nan nan nan nan\n",
            " nan nan nan nan nan nan nan nan nan nan nan nan nan nan nan nan nan nan\n",
            " nan nan nan nan nan nan nan nan nan nan nan nan nan nan nan nan nan nan\n",
            " nan nan nan nan nan nan nan nan nan nan nan nan nan nan nan nan nan nan\n",
            " nan nan nan nan nan nan nan nan nan nan nan nan nan nan nan nan nan nan\n",
            " nan nan nan nan nan nan nan nan nan nan nan nan nan nan nan nan nan nan\n",
            " nan nan nan nan nan nan nan nan nan nan nan nan nan nan nan nan nan nan\n",
            " nan nan nan nan nan nan nan nan nan nan nan nan nan nan nan nan nan nan\n",
            " nan]\n",
            "model prior [nan nan nan nan nan nan nan nan nan nan nan nan nan nan nan nan nan nan\n",
            " nan nan nan nan nan nan nan nan nan nan nan nan nan nan nan nan nan nan\n",
            " nan nan nan nan nan nan nan nan nan nan nan nan nan nan nan nan nan nan\n",
            " nan nan nan nan nan nan nan nan nan nan nan nan nan nan nan nan nan nan\n",
            " nan nan nan nan nan nan nan nan nan nan nan nan nan nan nan nan nan nan\n",
            " nan nan nan nan nan nan nan nan nan nan nan nan nan nan nan nan nan nan\n",
            " nan nan nan nan nan nan nan nan nan nan nan nan nan nan nan nan nan nan\n",
            " nan nan nan nan nan nan nan nan nan nan nan nan nan nan nan nan nan nan\n",
            " nan nan nan nan nan nan nan nan nan nan nan nan nan nan nan nan nan nan\n",
            " nan nan nan nan nan nan nan nan nan nan nan nan nan nan nan nan nan nan\n",
            " nan]\n",
            "action_mask [0 0 0 0 0 0 0 0 0 0 0 0 1 0 0 0 0 0 0 0 0 0 0 0 0 0 0 0 0 0 0 0 0 0 0 0 0\n",
            " 0 0 0 0 0 0 0 0 0 0 0 0 0 0 0 0 0 0 0 0 0 0 0 0 0 0 0 0 0 0 0 0 0 0 0 0 0\n",
            " 0 0 0 0 0 0 0 0 0 0 0 0 0 0 0 0 0 0 0 0 0 0 0 0 0 0 0 0 0 0 0 0 0 0 0 0 0\n",
            " 0 0 0 0 0 0 0 0 0 0 0 0 0 0 0 0 0 0 0 0 0 0 0 0 0 0 0 0 0 0 0 0 0 0 0 0 0\n",
            " 0 0 0 0 0 0 0 0 0 0 0 0 0 0 0 0 0 0 0 0 0 0 0 0 0 0 0 0 0 0 0 0 0]\n"
          ]
        },
        {
          "output_type": "error",
          "ename": "RuntimeError",
          "evalue": "ignored",
          "traceback": [
            "\u001b[0;31m---------------------------------------------------------------------------\u001b[0m",
            "\u001b[0;31mRuntimeError\u001b[0m                              Traceback (most recent call last)",
            "\u001b[0;32m<ipython-input-38-0d126c920e56>\u001b[0m in \u001b[0;36m<module>\u001b[0;34m\u001b[0m\n\u001b[1;32m      2\u001b[0m \u001b[0;32mfor\u001b[0m \u001b[0mi\u001b[0m \u001b[0;32min\u001b[0m \u001b[0mrange\u001b[0m\u001b[0;34m(\u001b[0m\u001b[0;36m100\u001b[0m\u001b[0;34m)\u001b[0m\u001b[0;34m:\u001b[0m\u001b[0;34m\u001b[0m\u001b[0;34m\u001b[0m\u001b[0m\n\u001b[1;32m      3\u001b[0m     \u001b[0mprint\u001b[0m\u001b[0;34m(\u001b[0m\u001b[0;34mf\"Batch {i}\"\u001b[0m\u001b[0;34m)\u001b[0m\u001b[0;34m\u001b[0m\u001b[0;34m\u001b[0m\u001b[0m\n\u001b[0;32m----> 4\u001b[0;31m     \u001b[0mtrain_examples\u001b[0m \u001b[0;34m=\u001b[0m \u001b[0mself_play_episode\u001b[0m\u001b[0;34m(\u001b[0m\u001b[0;32mlambda\u001b[0m \u001b[0mx\u001b[0m\u001b[0;34m:\u001b[0m \u001b[0mmodel_agent\u001b[0m\u001b[0;34m(\u001b[0m\u001b[0mx\u001b[0m\u001b[0;34m,\u001b[0m \u001b[0;34m{\u001b[0m\u001b[0;34m'params'\u001b[0m\u001b[0;34m:\u001b[0m \u001b[0mstate\u001b[0m\u001b[0;34m.\u001b[0m\u001b[0mparams\u001b[0m\u001b[0;34m}\u001b[0m\u001b[0;34m)\u001b[0m\u001b[0;34m)\u001b[0m\u001b[0;34m\u001b[0m\u001b[0;34m\u001b[0m\u001b[0m\n\u001b[0m\u001b[1;32m      5\u001b[0m     \u001b[0mstate_b\u001b[0m\u001b[0;34m,\u001b[0m \u001b[0mpa_b\u001b[0m\u001b[0;34m,\u001b[0m \u001b[0mr_b\u001b[0m \u001b[0;34m=\u001b[0m \u001b[0mbatch_examples\u001b[0m\u001b[0;34m(\u001b[0m\u001b[0mtrain_examples\u001b[0m\u001b[0;34m)\u001b[0m\u001b[0;34m\u001b[0m\u001b[0;34m\u001b[0m\u001b[0m\n\u001b[1;32m      6\u001b[0m     \u001b[0mstate\u001b[0m \u001b[0;34m=\u001b[0m \u001b[0mtrain_step\u001b[0m\u001b[0;34m(\u001b[0m\u001b[0mstate\u001b[0m\u001b[0;34m,\u001b[0m \u001b[0mstate_b\u001b[0m\u001b[0;34m,\u001b[0m \u001b[0mpa_b\u001b[0m\u001b[0;34m,\u001b[0m \u001b[0mr_b\u001b[0m\u001b[0;34m)\u001b[0m\u001b[0;34m\u001b[0m\u001b[0;34m\u001b[0m\u001b[0m\n",
            "\u001b[0;32m<ipython-input-22-7e44663ae1d1>\u001b[0m in \u001b[0;36mself_play_episode\u001b[0;34m(model, num_sims, temp_threshold)\u001b[0m\n\u001b[1;32m      5\u001b[0m     \u001b[0;32mwhile\u001b[0m \u001b[0;32mTrue\u001b[0m\u001b[0;34m:\u001b[0m\u001b[0;34m\u001b[0m\u001b[0;34m\u001b[0m\u001b[0m\n\u001b[1;32m      6\u001b[0m         \u001b[0mmcts\u001b[0m \u001b[0;34m=\u001b[0m \u001b[0mMCTS\u001b[0m\u001b[0;34m(\u001b[0m\u001b[0mmax_size\u001b[0m\u001b[0;34m=\u001b[0m\u001b[0;36m1001\u001b[0m\u001b[0;34m)\u001b[0m\u001b[0;34m\u001b[0m\u001b[0;34m\u001b[0m\u001b[0m\n\u001b[0;32m----> 7\u001b[0;31m         \u001b[0mroot_index\u001b[0m \u001b[0;34m=\u001b[0m \u001b[0mmcts\u001b[0m\u001b[0;34m.\u001b[0m\u001b[0mmcts_eval\u001b[0m\u001b[0;34m(\u001b[0m\u001b[0mboard\u001b[0m\u001b[0;34m,\u001b[0m \u001b[0mmodel\u001b[0m\u001b[0;34m,\u001b[0m \u001b[0mnum_sims\u001b[0m\u001b[0;34m=\u001b[0m\u001b[0mnum_sims\u001b[0m\u001b[0;34m)\u001b[0m\u001b[0;34m\u001b[0m\u001b[0;34m\u001b[0m\u001b[0m\n\u001b[0m\u001b[1;32m      8\u001b[0m         \u001b[0;31m# print(root_index, mcts.state[root_index].reshape((3,3)))\u001b[0m\u001b[0;34m\u001b[0m\u001b[0;34m\u001b[0m\u001b[0;34m\u001b[0m\u001b[0m\n\u001b[1;32m      9\u001b[0m         \u001b[0;31m# print(board.reshape((3,3)))\u001b[0m\u001b[0;34m\u001b[0m\u001b[0;34m\u001b[0m\u001b[0;34m\u001b[0m\u001b[0m\n",
            "\u001b[0;32m<ipython-input-35-b6b515a96e2b>\u001b[0m in \u001b[0;36mmcts_eval\u001b[0;34m(self, state, model, num_sims)\u001b[0m\n\u001b[1;32m    118\u001b[0m         \u001b[0;31m# print(\"Root index\", root_index)\u001b[0m\u001b[0;34m\u001b[0m\u001b[0;34m\u001b[0m\u001b[0;34m\u001b[0m\u001b[0m\n\u001b[1;32m    119\u001b[0m         \u001b[0;32mfor\u001b[0m \u001b[0m_\u001b[0m \u001b[0;32min\u001b[0m \u001b[0mrange\u001b[0m\u001b[0;34m(\u001b[0m\u001b[0mnum_sims\u001b[0m\u001b[0;34m)\u001b[0m\u001b[0;34m:\u001b[0m\u001b[0;34m\u001b[0m\u001b[0;34m\u001b[0m\u001b[0m\n\u001b[0;32m--> 120\u001b[0;31m             \u001b[0mself\u001b[0m\u001b[0;34m.\u001b[0m\u001b[0msearch_iter\u001b[0m\u001b[0;34m(\u001b[0m\u001b[0mroot_index\u001b[0m\u001b[0;34m,\u001b[0m \u001b[0mmodel\u001b[0m\u001b[0;34m)\u001b[0m\u001b[0;34m\u001b[0m\u001b[0;34m\u001b[0m\u001b[0m\n\u001b[0m\u001b[1;32m    121\u001b[0m         \u001b[0;32mreturn\u001b[0m \u001b[0mroot_index\u001b[0m\u001b[0;34m\u001b[0m\u001b[0;34m\u001b[0m\u001b[0m\n\u001b[1;32m    122\u001b[0m \u001b[0;34m\u001b[0m\u001b[0m\n",
            "\u001b[0;32m<ipython-input-35-b6b515a96e2b>\u001b[0m in \u001b[0;36msearch_iter\u001b[0;34m(self, state_index, model)\u001b[0m\n\u001b[1;32m     79\u001b[0m             \u001b[0maction\u001b[0m \u001b[0;34m=\u001b[0m \u001b[0mself\u001b[0m\u001b[0;34m.\u001b[0m\u001b[0mselect_action\u001b[0m\u001b[0;34m(\u001b[0m\u001b[0mcurr_state\u001b[0m\u001b[0;34m,\u001b[0m \u001b[0mcurr_index\u001b[0m\u001b[0;34m)\u001b[0m\u001b[0;34m\u001b[0m\u001b[0;34m\u001b[0m\u001b[0m\n\u001b[1;32m     80\u001b[0m             \u001b[0mpath_actions\u001b[0m\u001b[0;34m.\u001b[0m\u001b[0mappend\u001b[0m\u001b[0;34m(\u001b[0m\u001b[0maction\u001b[0m\u001b[0;34m)\u001b[0m\u001b[0;34m\u001b[0m\u001b[0;34m\u001b[0m\u001b[0m\n\u001b[0;32m---> 81\u001b[0;31m             \u001b[0mcurr_state\u001b[0m \u001b[0;34m=\u001b[0m \u001b[0mflip_board\u001b[0m\u001b[0;34m(\u001b[0m\u001b[0mget_next_state\u001b[0m\u001b[0;34m(\u001b[0m\u001b[0mcurr_state\u001b[0m\u001b[0;34m,\u001b[0m \u001b[0maction\u001b[0m\u001b[0;34m)\u001b[0m\u001b[0;34m)\u001b[0m\u001b[0;34m\u001b[0m\u001b[0;34m\u001b[0m\u001b[0m\n\u001b[0m\u001b[1;32m     82\u001b[0m             \u001b[0mnsr\u001b[0m \u001b[0;34m=\u001b[0m \u001b[0mcurr_state\u001b[0m\u001b[0;34m.\u001b[0m\u001b[0mtobytes\u001b[0m\u001b[0;34m(\u001b[0m\u001b[0;34m)\u001b[0m\u001b[0;34m\u001b[0m\u001b[0;34m\u001b[0m\u001b[0m\n\u001b[1;32m     83\u001b[0m             \u001b[0;32mif\u001b[0m\u001b[0;34m(\u001b[0m\u001b[0mnsr\u001b[0m \u001b[0;32min\u001b[0m \u001b[0mself\u001b[0m\u001b[0;34m.\u001b[0m\u001b[0mstate_lookup\u001b[0m\u001b[0;34m)\u001b[0m\u001b[0;34m:\u001b[0m\u001b[0;34m\u001b[0m\u001b[0;34m\u001b[0m\u001b[0m\n",
            "\u001b[0;32m<ipython-input-37-9359b6b1520b>\u001b[0m in \u001b[0;36mazul_get_next_state\u001b[0;34m(board, action)\u001b[0m\n\u001b[1;32m      7\u001b[0m \u001b[0;34m\u001b[0m\u001b[0m\n\u001b[1;32m      8\u001b[0m \u001b[0;32mdef\u001b[0m \u001b[0mazul_get_next_state\u001b[0m\u001b[0;34m(\u001b[0m\u001b[0mboard\u001b[0m\u001b[0;34m,\u001b[0m \u001b[0maction\u001b[0m\u001b[0;34m)\u001b[0m\u001b[0;34m:\u001b[0m\u001b[0;34m\u001b[0m\u001b[0;34m\u001b[0m\u001b[0m\n\u001b[0;32m----> 9\u001b[0;31m   \u001b[0;32mreturn\u001b[0m \u001b[0mAzul_Simulator\u001b[0m\u001b[0;34m.\u001b[0m\u001b[0mget_next_state\u001b[0m\u001b[0;34m(\u001b[0m\u001b[0mboard\u001b[0m\u001b[0;34m,\u001b[0m \u001b[0maction\u001b[0m\u001b[0;34m,\u001b[0m \u001b[0mrng_azul\u001b[0m\u001b[0;34m)\u001b[0m\u001b[0;34m\u001b[0m\u001b[0;34m\u001b[0m\u001b[0m\n\u001b[0m\u001b[1;32m     10\u001b[0m \u001b[0;34m\u001b[0m\u001b[0m\n\u001b[1;32m     11\u001b[0m \u001b[0minit_board\u001b[0m \u001b[0;34m=\u001b[0m \u001b[0mazul_init_board\u001b[0m\u001b[0;34m\u001b[0m\u001b[0;34m\u001b[0m\u001b[0m\n",
            "\u001b[0;32m/content/Azul_Simulator.py\u001b[0m in \u001b[0;36mget_next_state\u001b[0;34m(state, action, rng)\u001b[0m\n\u001b[1;32m    622\u001b[0m         \u001b[0;31m# Noop is not a valid action\u001b[0m\u001b[0;34m\u001b[0m\u001b[0;34m\u001b[0m\u001b[0;34m\u001b[0m\u001b[0m\n\u001b[1;32m    623\u001b[0m         \u001b[0;32melse\u001b[0m\u001b[0;34m:\u001b[0m\u001b[0;34m\u001b[0m\u001b[0;34m\u001b[0m\u001b[0m\n\u001b[0;32m--> 624\u001b[0;31m             \u001b[0;32mraise\u001b[0m \u001b[0mRuntimeError\u001b[0m\u001b[0;34m(\u001b[0m\u001b[0;34m\"An illegal action was attempted\"\u001b[0m\u001b[0;34m)\u001b[0m\u001b[0;34m\u001b[0m\u001b[0;34m\u001b[0m\u001b[0m\n\u001b[0m\u001b[1;32m    625\u001b[0m     \u001b[0;31m# Must take a noop action\u001b[0m\u001b[0;34m\u001b[0m\u001b[0;34m\u001b[0m\u001b[0;34m\u001b[0m\u001b[0m\n\u001b[1;32m    626\u001b[0m     \u001b[0;32melif\u001b[0m \u001b[0mstate\u001b[0m\u001b[0;34m[\u001b[0m\u001b[0mnoop\u001b[0m\u001b[0;34m]\u001b[0m \u001b[0;34m==\u001b[0m \u001b[0;36m1\u001b[0m\u001b[0;34m:\u001b[0m\u001b[0;34m\u001b[0m\u001b[0;34m\u001b[0m\u001b[0m\n",
            "\u001b[0;31mRuntimeError\u001b[0m: An illegal action was attempted"
          ]
        }
      ],
      "source": [
        "state = create_train_state(rng, 0.1, 0.1)\n",
        "for i in range(100):\n",
        "    print(f\"Batch {i}\")\n",
        "    train_examples = self_play_episode(lambda x: model_agent(x, {'params': state.params}))\n",
        "    state_b, pa_b, r_b = batch_examples(train_examples)\n",
        "    state = train_step(state, state_b, pa_b, r_b)"
      ]
    },
    {
      "cell_type": "code",
      "execution_count": null,
      "metadata": {
        "id": "-qWA8E0opP6Q",
        "outputId": "68783e22-517b-4bf7-899f-270a73ad5a60"
      },
      "outputs": [
        {
          "name": "stdout",
          "output_type": "stream",
          "text": [
            "[[ 1 -1  0]\n",
            " [-1  1  0]\n",
            " [-1  0 -1]]\n",
            "[[-0.6395513   1.1339238   0.1416342 ]\n",
            " [ 0.5601864  -0.0362146  -1.1930408 ]\n",
            " [-0.66380763  0.48171103  1.3484561 ]] [0.7721212]\n"
          ]
        }
      ],
      "source": [
        "board = np.array([1, -1, 0, -1, 1, 0, -1, 0, -1])\n",
        "# board = np.zeros_like(board)\n",
        "print(board.reshape((3,3)))\n",
        "model = TTTModel()\n",
        "action_prior, value = model.apply({'params': state.params}, board)\n",
        "print(action_prior.reshape((3,3)), value)\n",
        "\n",
        "def learned_agent(board):\n",
        "    prior = model_agent(board, {'params': state.params})[0]\n",
        "    prior *= get_valid_mask(board)\n",
        "    return np.argmax(prior)\n",
        "\n",
        "def random_agent(board):\n",
        "    valid_mask = np.float32(get_valid_mask(board))\n",
        "    valid_mask /= valid_mask.sum()\n",
        "    return np.random.choice(board.shape[0], p=valid_mask)"
      ]
    },
    {
      "cell_type": "code",
      "execution_count": null,
      "metadata": {
        "id": "N-5DSwwmpP6Q",
        "outputId": "747e3dc1-4ff4-471d-fd74-ad0854b80015"
      },
      "outputs": [
        {
          "data": {
            "text/plain": [
              "(array([182.,  26., 792.]),\n",
              " array([-1.        , -0.33333333,  0.33333333,  1.        ]),\n",
              " <BarContainer object of 3 artists>)"
            ]
          },
          "execution_count": 139,
          "metadata": {},
          "output_type": "execute_result"
        },
        {
          "data": {
            "image/png": "[encoded data removed]",
            "text/plain": [
              "<Figure size 640x480 with 1 Axes>"
            ]
          },
          "metadata": {},
          "output_type": "display_data"
        }
      ],
      "source": [
        "def play_match(agent1, agent2):\n",
        "    board = init_board()\n",
        "    agents = [agent1, agent2]\n",
        "    step = 0\n",
        "    while True:\n",
        "        a = agents[step%2](board)\n",
        "        board = flip_board(get_next_state(board, a))\n",
        "        reward, game_over = get_reward(board)\n",
        "        # print(step, board)\n",
        "        if(game_over):\n",
        "            return reward**step\n",
        "        step += 1\n",
        "\n",
        "match_results = []\n",
        "for i in range(1000):\n",
        "    match_results.append(play_match(learned_agent, random_agent))\n",
        "plt.hist(match_results, bins=3)"
      ]
    },
    {
      "cell_type": "code",
      "execution_count": null,
      "metadata": {
        "id": "zVxStAx1pP6S"
      },
      "outputs": [],
      "source": []
    },
    {
      "cell_type": "code",
      "execution_count": null,
      "metadata": {
        "id": "AHpq1L_WpP6S",
        "outputId": "8381bf6a-4107-43cd-9948-66c0d67df25d"
      },
      "outputs": [
        {
          "data": {
            "text/plain": [
              "(array([270.,   0.,   0.,   0.,   0., 127.,   0.,   0.,   0., 603.]),\n",
              " array([-1. , -0.8, -0.6, -0.4, -0.2,  0. ,  0.2,  0.4,  0.6,  0.8,  1. ]),\n",
              " <BarContainer object of 10 artists>)"
            ]
          },
          "execution_count": 128,
          "metadata": {},
          "output_type": "execute_result"
        },
        {
          "data": {
            "image/png": "[encoded data removed]",
            "text/plain": [
              "<Figure size 640x480 with 1 Axes>"
            ]
          },
          "metadata": {},
          "output_type": "display_data"
        }
      ],
      "source": [
        "match_results = []\n",
        "for i in range(1000):\n",
        "    match_results.append(play_match(random_agent, random_agent))\n",
        "plt.hist(match_results)"
      ]
    }
  ],
  "metadata": {
    "kernelspec": {
      "display_name": "Python 3.8.1 32-bit",
      "language": "python",
      "name": "python3"
    },
    "language_info": {
      "codemirror_mode": {
        "name": "ipython",
        "version": 3
      },
      "file_extension": ".py",
      "mimetype": "text/x-python",
      "name": "python",
      "nbconvert_exporter": "python",
      "pygments_lexer": "ipython3",
      "version": "3.8.1"
    },
    "orig_nbformat": 4,
    "vscode": {
      "interpreter": {
        "hash": "f17e525a1b89cdee4e3171ca8327284de27969b02e7154590015f5315dfe3283"
      }
    },
    "colab": {
      "provenance": []
    },
    "gpuClass": "standard"
  },
  "nbformat": 4,
  "nbformat_minor": 0
}