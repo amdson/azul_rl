{
  "cells": [
    {
      "cell_type": "code",
      "execution_count": 1,
      "metadata": {
        "colab": {
          "base_uri": "https://localhost:8080/"
        },
        "id": "npn6P-APpaIz",
        "outputId": "c5bd80a1-a259-4205-8f0a-d5d8a0298f96"
      },
      "outputs": [
        {
          "output_type": "stream",
          "name": "stdout",
          "text": [
            "Looking in indexes: https://pypi.org/simple, https://us-python.pkg.dev/colab-wheels/public/simple/\n",
            "Collecting flax\n",
            "  Downloading flax-0.6.2-py3-none-any.whl (189 kB)\n",
            "\u001b[K     |████████████████████████████████| 189 kB 16.3 MB/s \n",
            "\u001b[?25hRequirement already satisfied: jax>=0.3.16 in /usr/local/lib/python3.8/dist-packages (from flax) (0.3.25)\n",
            "Requirement already satisfied: typing-extensions>=4.1.1 in /usr/local/lib/python3.8/dist-packages (from flax) (4.1.1)\n",
            "Requirement already satisfied: PyYAML>=5.4.1 in /usr/local/lib/python3.8/dist-packages (from flax) (6.0)\n",
            "Collecting rich>=11.1\n",
            "  Downloading rich-12.6.0-py3-none-any.whl (237 kB)\n",
            "\u001b[K     |████████████████████████████████| 237 kB 41.2 MB/s \n",
            "\u001b[?25hCollecting optax\n",
            "  Downloading optax-0.1.4-py3-none-any.whl (154 kB)\n",
            "\u001b[K     |████████████████████████████████| 154 kB 39.9 MB/s \n",
            "\u001b[?25hRequirement already satisfied: numpy>=1.12 in /usr/local/lib/python3.8/dist-packages (from flax) (1.21.6)\n",
            "Collecting tensorstore\n",
            "  Downloading tensorstore-0.1.28-cp38-cp38-manylinux_2_17_x86_64.manylinux2014_x86_64.whl (8.3 MB)\n",
            "\u001b[K     |████████████████████████████████| 8.3 MB 34.6 MB/s \n",
            "\u001b[?25hRequirement already satisfied: msgpack in /usr/local/lib/python3.8/dist-packages (from flax) (1.0.4)\n",
            "Requirement already satisfied: matplotlib in /usr/local/lib/python3.8/dist-packages (from flax) (3.2.2)\n",
            "Requirement already satisfied: scipy>=1.5 in /usr/local/lib/python3.8/dist-packages (from jax>=0.3.16->flax) (1.7.3)\n",
            "Requirement already satisfied: opt-einsum in /usr/local/lib/python3.8/dist-packages (from jax>=0.3.16->flax) (3.3.0)\n",
            "Requirement already satisfied: pygments<3.0.0,>=2.6.0 in /usr/local/lib/python3.8/dist-packages (from rich>=11.1->flax) (2.6.1)\n",
            "Collecting commonmark<0.10.0,>=0.9.0\n",
            "  Downloading commonmark-0.9.1-py2.py3-none-any.whl (51 kB)\n",
            "\u001b[K     |████████████████████████████████| 51 kB 1.1 MB/s \n",
            "\u001b[?25hRequirement already satisfied: pyparsing!=2.0.4,!=2.1.2,!=2.1.6,>=2.0.1 in /usr/local/lib/python3.8/dist-packages (from matplotlib->flax) (3.0.9)\n",
            "Requirement already satisfied: python-dateutil>=2.1 in /usr/local/lib/python3.8/dist-packages (from matplotlib->flax) (2.8.2)\n",
            "Requirement already satisfied: kiwisolver>=1.0.1 in /usr/local/lib/python3.8/dist-packages (from matplotlib->flax) (1.4.4)\n",
            "Requirement already satisfied: cycler>=0.10 in /usr/local/lib/python3.8/dist-packages (from matplotlib->flax) (0.11.0)\n",
            "Requirement already satisfied: six>=1.5 in /usr/local/lib/python3.8/dist-packages (from python-dateutil>=2.1->matplotlib->flax) (1.15.0)\n",
            "Collecting chex>=0.1.5\n",
            "  Downloading chex-0.1.5-py3-none-any.whl (85 kB)\n",
            "\u001b[K     |████████████████████████████████| 85 kB 2.2 MB/s \n",
            "\u001b[?25hRequirement already satisfied: jaxlib>=0.1.37 in /usr/local/lib/python3.8/dist-packages (from optax->flax) (0.3.25+cuda11.cudnn805)\n",
            "Requirement already satisfied: absl-py>=0.7.1 in /usr/local/lib/python3.8/dist-packages (from optax->flax) (1.3.0)\n",
            "Requirement already satisfied: toolz>=0.9.0 in /usr/local/lib/python3.8/dist-packages (from chex>=0.1.5->optax->flax) (0.12.0)\n",
            "Requirement already satisfied: dm-tree>=0.1.5 in /usr/local/lib/python3.8/dist-packages (from chex>=0.1.5->optax->flax) (0.1.7)\n",
            "Installing collected packages: commonmark, chex, tensorstore, rich, optax, flax\n",
            "Successfully installed chex-0.1.5 commonmark-0.9.1 flax-0.6.2 optax-0.1.4 rich-12.6.0 tensorstore-0.1.28\n"
          ]
        }
      ],
      "source": [
        "!pip install flax\n",
        "%load_ext autoreload\n",
        "%autoreload 2"
      ]
    },
    {
      "cell_type": "code",
      "execution_count": 2,
      "metadata": {
        "colab": {
          "base_uri": "https://localhost:8080/"
        },
        "id": "wXIZtqcVKBK4",
        "outputId": "0047a99f-9787-4413-eef6-eeaab1b95db0"
      },
      "outputs": [
        {
          "output_type": "stream",
          "name": "stdout",
          "text": [
            "Looking in indexes: https://pypi.org/simple, https://us-python.pkg.dev/colab-wheels/public/simple/\n",
            "Collecting colorama\n",
            "  Downloading colorama-0.4.6-py2.py3-none-any.whl (25 kB)\n",
            "Installing collected packages: colorama\n",
            "Successfully installed colorama-0.4.6\n"
          ]
        }
      ],
      "source": [
        "!pip install colorama\n"
      ]
    },
    {
      "cell_type": "code",
      "execution_count": 15,
      "metadata": {
        "id": "9Z_t1dYApP59"
      },
      "outputs": [],
      "source": [
        "import jax\n",
        "import jax.numpy as jnp                # JAX NumPy\n",
        "\n",
        "from flax import linen as nn           # The Linen API\n",
        "from flax import traverse_util\n",
        "from flax.training import train_state, checkpoints  # Useful dataclass to keep train state\n",
        "\n",
        "import numpy as np                     # Ordinary NumPy\n",
        "import optax                           # Optimizers\n",
        "import matplotlib.pyplot as plt\n",
        "import networkx as nx\n",
        "\n",
        "def init_board():\n",
        "  return np.zeros((3, 3), dtype=int).flatten()\n",
        "\n",
        "def flip_board(board):\n",
        "  return -board\n",
        "\n",
        "def get_valid_mask(board):\n",
        "  return board == 0\n",
        "\n",
        "# #Always assume action is made by player 1\n",
        "# def get_next_state(board, action):\n",
        "#   return board.flatten().at[action].add(1).reshape(board.shape)\n",
        "\n",
        "#Always assume action is made by player 1\n",
        "#Assume action is valid\n",
        "def get_next_state(board, action):\n",
        "  if(board[action] == 1 or board[action] == -1):\n",
        "    print(\"Illegal Move\")\n",
        "    print(board.reshape((3,3)))\n",
        "    print(action)\n",
        "    print(get_reward(board))\n",
        "    assert False\n",
        "  next_board = board.copy()\n",
        "  next_board[action] = 1\n",
        "  return next_board\n",
        "\n",
        "def sample_action(action_dist):\n",
        "  action_dist = action_dist.flatten() / action_dist.sum()\n",
        "  return np.random.choice(action_dist.shape[0], p=action_dist)\n",
        "\n",
        "def disp_board(board):\n",
        "  plt.imshow(board)"
      ]
    },
    {
      "cell_type": "code",
      "execution_count": 16,
      "metadata": {
        "id": "Nxqg0hvHpP6C"
      },
      "outputs": [],
      "source": [
        "diag_mask = np.eye(3)\n",
        "ld_mask = np.eye(3)[::-1, :]\n",
        "def get_reward(board): #Assume move and flip, so board can only be lost\n",
        "    b = board.reshape((3,3))\n",
        "    diag = np.sum(diag_mask*b) <= -3\n",
        "    diag_l = np.sum(ld_mask*b) <= -3\n",
        "    row = np.min(b@np.ones(3)) <= -3\n",
        "    col = np.min(b.T@np.ones(3)) <= -3\n",
        "    reward = -int(diag or diag_l or row or col)\n",
        "    return reward, (reward != 0 or (board == 0).sum() == 0)\n"
      ]
    },
    {
      "cell_type": "code",
      "execution_count": 17,
      "metadata": {
        "id": "V09aH5pTpP6F"
      },
      "outputs": [],
      "source": [
        "# RUNNING THIS CELL OVERWRITES THE ABOVE TICTACTOE FUNCTIONS WITH THEIR AZUL COUNTERPARTS\n",
        "import Azul_Simulator\n",
        "rng_azul = np.random.default_rng(6546547)\n",
        "\n",
        "def azul_init_board():\n",
        "  return Azul_Simulator.init_board(rng_azul)\n",
        "\n",
        "def azul_get_next_state(board, action):\n",
        "  return Azul_Simulator.get_next_state(board, action, rng_azul)\n",
        "\n",
        "init_board = azul_init_board\n",
        "flip_board = Azul_Simulator.flip_board\n",
        "get_valid_mask = Azul_Simulator.get_valid_mask\n",
        "get_next_state = azul_get_next_state\n",
        "get_reward = Azul_Simulator.get_reward\n",
        "disp_board = Azul_Simulator.disp_board"
      ]
    },
    {
      "cell_type": "code",
      "execution_count": 6,
      "metadata": {
        "id": "8miWJ_xhpP6H"
      },
      "outputs": [],
      "source": [
        "# rng = jax.random.PRNGKey(40)\n",
        "for i in range(200):\n",
        "  board = init_board()\n",
        "  for i in range(100):\n",
        "    # _, rng = jax.random.split(rng, 2)\n",
        "    action_dist = np.ones(181) * get_valid_mask(board)\n",
        "    next_action = sample_action(action_dist)\n",
        "    # print(board.reshape((3,3)), next_action)\n",
        "    board = flip_board(get_next_state(board, next_action))\n",
        "    reward, game_over = get_reward(board)\n",
        "    if(game_over):\n",
        "      break\n",
        "#print(board.reshape((3, 3)), reward, game_over)"
      ]
    },
    {
      "cell_type": "code",
      "execution_count": 7,
      "metadata": {
        "id": "fA4aP-VGpP6J"
      },
      "outputs": [],
      "source": [
        "def toy_model(state):\n",
        "    return np.ones(ACTION_DIM) / ACTION_DIM, 0.1"
      ]
    },
    {
      "cell_type": "code",
      "execution_count": 8,
      "metadata": {
        "colab": {
          "base_uri": "https://localhost:8080/"
        },
        "id": "KoVfY9KlKBK_",
        "outputId": "3b0e1a49-9e32-4647-895f-43c3a843560d"
      },
      "outputs": [
        {
          "output_type": "stream",
          "name": "stdout",
          "text": [
            "int64\n",
            "True\n"
          ]
        }
      ],
      "source": [
        "arr = np.zeros(10, dtype=int)\n",
        "a = arr.dtype\n",
        "print(a)\n",
        "print(np.all(arr==0))"
      ]
    },
    {
      "cell_type": "code",
      "execution_count": 9,
      "metadata": {
        "colab": {
          "base_uri": "https://localhost:8080/"
        },
        "id": "KUBU22cppP6J",
        "outputId": "70621f01-86a0-480e-c0a5-d2ea7efdfb78"
      },
      "outputs": [
        {
          "output_type": "stream",
          "name": "stdout",
          "text": [
            "Finished mcts\n"
          ]
        }
      ],
      "source": [
        "STATE_DIM = 157\n",
        "ACTION_DIM = 181\n",
        "MAX_SIZE = int(1e3)\n",
        "C_BASE, C_INIT = 1.0, 1.0\n",
        "class MCTS:\n",
        "    def __init__(self, max_size=MAX_SIZE):\n",
        "        self.state = np.zeros((max_size, STATE_DIM), dtype=int)\n",
        "        self.state_lookup = {} #Maps state representation to index\n",
        "        self.expanded = []\n",
        "\n",
        "        self.visit_count = np.zeros(max_size, dtype=int)\n",
        "        self.action_visits  = np.zeros((max_size, ACTION_DIM), dtype=int)\n",
        "        self.action_total_value = np.zeros((max_size, ACTION_DIM))\n",
        "        self.action_mean_value = np.zeros((max_size, ACTION_DIM))\n",
        "        self.action_prior = np.zeros((max_size, ACTION_DIM))\n",
        "        # self.action_children = np.zeros((MAX_SIZE, ACTION_DIM), dtype=int) - 1\n",
        "    \n",
        "    #Assumes state is already expanded, and uses MCTS info to pick best action\n",
        "    def select_action(self, state, state_index):\n",
        "        state_visits = self.visit_count[state_index]\n",
        "        exp_rate = np.log((1+state_visits + C_BASE)/C_BASE) + C_INIT\n",
        "        model_prior = self.action_prior[state_index]\n",
        "        sa_visits = self.action_visits[state_index]\n",
        "        sa_mean_value = (1+self.action_mean_value[state_index])/2 #Normalize to [0, 1]\n",
        "        action_distr = (sa_mean_value + exp_rate*np.sqrt(state_visits)*model_prior/(1+sa_visits))*get_valid_mask(state)\n",
        "        action = np.argmax(action_distr)\n",
        "        # print(state[action])\n",
        "        if get_valid_mask(state)[action] == 0:\n",
        "            print(\"State:\")\n",
        "            # disp_board(state)\n",
        "            print(state)\n",
        "            print(self.state[state_index])\n",
        "            # bad_state = state\n",
        "            print(\"action\", action)\n",
        "            print(\"exp rate\", exp_rate)\n",
        "            print(\"sa mean value\", sa_mean_value, sa_visits)\n",
        "            print(\"action distr\", action_distr)\n",
        "            print(\"model prior\", model_prior)\n",
        "            print(\"action_mask\", get_valid_mask(state))\n",
        "            print(\"state index\", state_index)\n",
        "            print(\"visit_count\", self.visit_count[state_index])\n",
        "\n",
        "        return action\n",
        "\n",
        "    def get_action_prob(self, state_index, temperature=1):\n",
        "        \"\"\"\n",
        "        Select action according to the visit count distribution and the temperature.\n",
        "        \"\"\"\n",
        "        action_visits = self.action_visits[state_index]\n",
        "        if temperature == 0:\n",
        "            a = np.argmax(action_visits)\n",
        "            r = np.zeros(action_visits.shape)\n",
        "            r[a] = 1.0\n",
        "            return r\n",
        "        elif temperature == float(\"inf\"):\n",
        "            return np.ones(action_visits.shape)/action_visits.shape[0]\n",
        "        else:\n",
        "            # See paper appendix Data Generation\n",
        "            visit_count_distribution = np.power(action_visits, 1 / temperature)\n",
        "            visit_count_distribution = visit_count_distribution / sum(visit_count_distribution)\n",
        "            return visit_count_distribution\n",
        "            \n",
        "    def expand_node(self, state, action_weights):\n",
        "        state_index = len(self.expanded)\n",
        "        self.expanded.append(True)\n",
        "        self.state_lookup[state.tobytes()] = state_index\n",
        "\n",
        "        self.state[state_index] = state\n",
        "        self.visit_count[state_index] += 1\n",
        "\n",
        "        valid_moves = get_valid_mask(state)\n",
        "        action_probs = (action_weights + 1e-6) * valid_moves  # mask invalid moves\n",
        "        action_probs /= np.sum(action_probs)\n",
        "\n",
        "        if(not np.any(valid_moves)):\n",
        "            print(\"No valid moves\")\n",
        "        if(np.any(np.isnan(action_probs))):\n",
        "            print(\"action probs set to nan for\", state_index)\n",
        "            print(\"state\", state)\n",
        "            print(\"action weights\", action_weights)\n",
        "            print(\"unnorm weights\", (action_weights + 1e-6) * valid_moves)\n",
        "\n",
        "        self.action_prior[state_index] = action_probs\n",
        "        return state_index\n",
        "\n",
        "    def search_iter(self, state_index, model):\n",
        "        search_path = []\n",
        "        path_actions = []\n",
        "\n",
        "        curr_index = state_index\n",
        "        curr_state = self.state[state_index]\n",
        "\n",
        "        # Loop until reaching an untracked state\n",
        "        while curr_index >= 0:\n",
        "            search_path.append(curr_index)\n",
        "            action = self.select_action(curr_state, curr_index)\n",
        "            path_actions.append(action)\n",
        "            curr_state = flip_board(get_next_state(curr_state, action))\n",
        "            nsr = curr_state.tobytes()\n",
        "            if(nsr in self.state_lookup):\n",
        "                curr_index = self.state_lookup[nsr]\n",
        "            else:\n",
        "                curr_index = -1\n",
        "\n",
        "        # The value of the new state from the perspective of the other player\n",
        "        next_state = curr_state\n",
        "        value, game_over = get_reward(next_state)\n",
        "        value = -value\n",
        "        if not game_over:\n",
        "            # If the game has not ended:\n",
        "            # EXPAND\n",
        "            action_probs, value = model(next_state)\n",
        "            self.expand_node(next_state, action_probs)\n",
        "        \n",
        "        #Backpropagate MCTS search path\n",
        "        for i in range(len(search_path)-1, -1, -1):\n",
        "            si, a = search_path[i], path_actions[i]\n",
        "            self.visit_count[si] += 1\n",
        "            self.action_visits[si, a] += 1\n",
        "            self.action_total_value[si, a] += value\n",
        "            self.action_mean_value[si, a] = self.action_total_value[si, a] / self.action_visits[si, a]\n",
        "            value *= -1\n",
        "\n",
        "        # print(\"search path\", search_path)\n",
        "        # print(\"search visits after update\", [self.visit_count[s] for s in search_path])\n",
        "        \n",
        "    def mcts_eval(self, state, model, num_sims):\n",
        "        # print(\"Expanded len\", len(self.expanded))\n",
        "        if(np.any(np.isnan(state))):\n",
        "            print(\"Nan detected\")\n",
        "            print(state)\n",
        "        root_state = state\n",
        "        action_prior, value_est = model(root_state)\n",
        "        root_index = self.expand_node(root_state, action_prior)\n",
        "        # print(\"Root index\", root_index)\n",
        "        for _ in range(num_sims):\n",
        "            self.search_iter(root_index, model)\n",
        "        return root_index\n",
        "    \n",
        "    def print_tree(self, root_index=0):\n",
        "        for state_index in self.state_lookup.values():\n",
        "            state = self.state[state_index]\n",
        "            #print(state.reshape((3, 3))) # CHANGED!\n",
        "            visited_actions = self.action_visits[state_index].nonzero()[0]\n",
        "            action_values = self.action_mean_value[state_index, visited_actions]\n",
        "            print(\"Action\", visited_actions)\n",
        "            print(\"Action value\", action_values)\n",
        "\n",
        "    def visualize_tree(self, root_index, depth=100):\n",
        "        G = nx.Graph()\n",
        "        node_labels = {}\n",
        "        edge_labels = {}\n",
        "        for state_index in self.state_lookup.values():\n",
        "            visited_actions = self.action_visits[state_index].nonzero()[0]\n",
        "            action_values = self.action_mean_value[state_index, visited_actions]\n",
        "            state = self.state[state_index]\n",
        "            for action, value in zip(visited_actions, action_values):\n",
        "                child_state = flip_board(get_next_state(state, action))\n",
        "                # print(child_state.reshape((4,4)))\n",
        "                child_index = self.state_lookup[child_state.tobytes()]\n",
        "                G.add_edge(state_index, child_index)\n",
        "                edge_labels[(state_index, child_index)] = value\n",
        "            node_labels[state_index] = f\"{state_index}, {self.action_visits[state_index].sum()}\" \n",
        "        \n",
        "        pos = nx.spring_layout(G)\n",
        "        plt.figure()\n",
        "        nx.draw(\n",
        "            G, pos, edge_color='black', width=1, linewidths=1, node_size=10, \n",
        "            node_color='pink', alpha=0.9,\n",
        "            # labels=node_labels\n",
        "        )\n",
        "        # nx.draw_networkx_edge_labels(\n",
        "        #     G, pos,\n",
        "        #     edge_labels=edge_labels,\n",
        "        #     font_color='red'\n",
        "        # )\n",
        "        plt.axis('off')\n",
        "        plt.show()\n",
        "\n",
        "# root_state = np.array([-1, 1, 0, 0, 0, 0, -1, 1, 0])\n",
        "# print(root_state.reshape((3, 3)))\n",
        "# root_state[:2] = 1\n",
        "root_state = init_board() # CHANGED!\n",
        "mcts = MCTS(max_size=5001)\n",
        "mcts.mcts_eval(root_state, toy_model, 5000)\n",
        "print(\"Finished mcts\")\n",
        "# mcts.visualize_tree()"
      ]
    },
    {
      "cell_type": "code",
      "execution_count": 10,
      "metadata": {
        "id": "By0l8o-0KBLB"
      },
      "outputs": [],
      "source": [
        "for i, state in enumerate(mcts.state[:5001]):\n",
        "    if(np.all(state == 0)):\n",
        "        print(i, state)"
      ]
    },
    {
      "cell_type": "code",
      "execution_count": 11,
      "metadata": {
        "id": "UeKS5bp5pP6N",
        "colab": {
          "base_uri": "https://localhost:8080/"
        },
        "outputId": "e44065d2-22b3-400f-8c45-98f852f1745f"
      },
      "outputs": [
        {
          "output_type": "stream",
          "name": "stderr",
          "text": [
            "WARNING:jax._src.lib.xla_bridge:No GPU/TPU found, falling back to CPU. (Set TF_CPP_MIN_LOG_LEVEL=0 and rerun for more info.)\n"
          ]
        }
      ],
      "source": [
        "def self_play_episode(model, num_sims=50, temp_threshold=6):\n",
        "    train_examples = []\n",
        "    board = init_board()\n",
        "    step = 0\n",
        "    while True:\n",
        "        if(board.dtype != np.int64):\n",
        "            print(\"Incorrect type\")\n",
        "        mcts = MCTS(max_size=1001)\n",
        "        root_index = mcts.mcts_eval(board, model, num_sims=num_sims)\n",
        "        # print(root_index, mcts.state[root_index].reshape((3,3)))\n",
        "        # print(board.reshape((3,3)))\n",
        "        # print(mcts.state[0].reshape((3,3)))\n",
        "        # print(mcts.action_visits[0].reshape((3,3)))\n",
        "        \n",
        "        temp = int(step < temp_threshold)\n",
        "        pi = mcts.get_action_prob(root_index, temperature=temp)\n",
        "\n",
        "\n",
        "        train_examples.append((board, pi, step))\n",
        "\n",
        "        action = np.random.choice(ACTION_DIM, p=pi)\n",
        "        # print(\"action\", action)\n",
        "\n",
        "        board = flip_board(get_next_state(board.astype(int), action))\n",
        "        #Reward is always negative because board is flipped after move. \n",
        "        r, game_over = get_reward(board) \n",
        "        if(game_over):\n",
        "            return [(b, p, (-1)**(step-s)) for b, p, s in train_examples]\n",
        "        step += 1\n",
        "\n",
        "def batch_examples(train_examples):\n",
        "    state_batch = jnp.stack([t[0] for t in train_examples])\n",
        "    pa_batch = jnp.stack([t[1] for t in train_examples])\n",
        "    r_batch = jnp.stack([t[2] for t in train_examples]).reshape((-1, 1))\n",
        "    return state_batch, pa_batch, r_batch\n",
        "\n",
        "train_examples = self_play_episode(toy_model, num_sims=100)\n",
        "state_b, pa_b, r_b = batch_examples(train_examples)"
      ]
    },
    {
      "cell_type": "code",
      "execution_count": 12,
      "metadata": {
        "id": "yvPpIgVDpP6O"
      },
      "outputs": [],
      "source": [
        "from jax import jit\n",
        "\n",
        "class TTTModel(nn.Module):\n",
        "  \"\"\"A simple MLP model.\"\"\"\n",
        "\n",
        "  @nn.compact\n",
        "  def __call__(self, x):\n",
        "    x = nn.Dense(features=64)(x)\n",
        "    body = nn.Dense(features=32)(x)\n",
        "    x = nn.Dense(features=181)(body)\n",
        "    value = nn.tanh(nn.Dense(features=1)(body)) #Value estimate between -1 and 1\n",
        "    return x, value\n",
        "\n",
        "@jit\n",
        "def model_agent(x, params):\n",
        "  logits, value = TTTModel().apply(params, x)\n",
        "  return nn.softmax(logits), value\n",
        "\n",
        "model = TTTModel()\n",
        "rng = jax.random.PRNGKey(42)\n",
        "params = model.init(rng, init_board())\n",
        "# model.apply(params, state_b)[1].shape\n",
        "# model_agent(state_b, params)"
      ]
    },
    {
      "cell_type": "code",
      "execution_count": 13,
      "metadata": {
        "id": "8Q0nRwQLpP6P"
      },
      "outputs": [],
      "source": [
        "def create_train_state(rng, learning_rate, momentum):\n",
        "  \"\"\"Creates initial `TrainState`.\"\"\"\n",
        "  model = TTTModel()\n",
        "  params = model.init(rng, jnp.array(init_board()))['params']\n",
        "\n",
        "  tx = optax.sgd(learning_rate, momentum)\n",
        "  return train_state.TrainState.create(\n",
        "      apply_fn=model.apply, params=params, tx=tx)\n",
        "\n",
        "@jax.jit\n",
        "def train_step(state, state_b, pa_b, r_b):\n",
        "  \"\"\"Train for a single step.\"\"\"\n",
        "  def loss_fn(params):\n",
        "    logits, exp_value = TTTModel().apply({'params': params}, state_b)\n",
        "    loss = optax.softmax_cross_entropy(logits, pa_b).mean() + jnp.square(r_b - exp_value).mean()\n",
        "    return loss, (logits, exp_value)\n",
        "  grad_fn = jax.grad(loss_fn, has_aux=True)\n",
        "  grads, aux = grad_fn(state.params)\n",
        "  state = state.apply_gradients(grads=grads)\n",
        "  # metrics = compute_metrics(logits=logits, labels=batch['label'])\n",
        "  return state#, metrics\n",
        "\n",
        "# state = train_step(state, state_b, pa_b, r_b)"
      ]
    },
    {
      "cell_type": "code",
      "execution_count": 26,
      "metadata": {
        "colab": {
          "base_uri": "https://localhost:8080/",
          "height": 422
        },
        "id": "s4PbvZZqpP6Q",
        "outputId": "5b2eb647-356a-48ed-f7a9-7b61be0842c8"
      },
      "outputs": [
        {
          "output_type": "stream",
          "name": "stdout",
          "text": [
            "Batch 0\n",
            "Batch 1\n"
          ]
        },
        {
          "output_type": "error",
          "ename": "RuntimeError",
          "evalue": "ignored",
          "traceback": [
            "\u001b[0;31m---------------------------------------------------------------------------\u001b[0m",
            "\u001b[0;31mRuntimeError\u001b[0m                              Traceback (most recent call last)",
            "\u001b[0;32m<ipython-input-26-5072a5cdf40f>\u001b[0m in \u001b[0;36m<module>\u001b[0;34m\u001b[0m\n\u001b[1;32m     30\u001b[0m       \u001b[0mmatch_results\u001b[0m \u001b[0;34m=\u001b[0m \u001b[0;34m[\u001b[0m\u001b[0;34m]\u001b[0m\u001b[0;34m\u001b[0m\u001b[0;34m\u001b[0m\u001b[0m\n\u001b[1;32m     31\u001b[0m       \u001b[0;32mfor\u001b[0m \u001b[0mi\u001b[0m \u001b[0;32min\u001b[0m \u001b[0mrange\u001b[0m\u001b[0;34m(\u001b[0m\u001b[0;36m100\u001b[0m\u001b[0;34m)\u001b[0m\u001b[0;34m:\u001b[0m\u001b[0;34m\u001b[0m\u001b[0;34m\u001b[0m\u001b[0m\n\u001b[0;32m---> 32\u001b[0;31m           \u001b[0mmatch_results\u001b[0m\u001b[0;34m.\u001b[0m\u001b[0mappend\u001b[0m\u001b[0;34m(\u001b[0m\u001b[0mplay_match\u001b[0m\u001b[0;34m(\u001b[0m\u001b[0mnew_agent\u001b[0m\u001b[0;34m,\u001b[0m \u001b[0mold_agent\u001b[0m\u001b[0;34m)\u001b[0m\u001b[0;34m)\u001b[0m\u001b[0;34m\u001b[0m\u001b[0;34m\u001b[0m\u001b[0m\n\u001b[0m\u001b[1;32m     33\u001b[0m       \u001b[0mprint\u001b[0m\u001b[0;34m(\u001b[0m\u001b[0;34m\"% matches won by new agent: \"\u001b[0m \u001b[0;34m+\u001b[0m \u001b[0mstr\u001b[0m\u001b[0;34m(\u001b[0m\u001b[0mmatch_results\u001b[0m\u001b[0;34m.\u001b[0m\u001b[0mcount\u001b[0m\u001b[0;34m(\u001b[0m\u001b[0;36m1\u001b[0m\u001b[0;34m)\u001b[0m\u001b[0;34m)\u001b[0m\u001b[0;34m)\u001b[0m\u001b[0;34m\u001b[0m\u001b[0;34m\u001b[0m\u001b[0m\n\u001b[1;32m     34\u001b[0m \u001b[0;34m\u001b[0m\u001b[0m\n",
            "\u001b[0;32m<ipython-input-26-5072a5cdf40f>\u001b[0m in \u001b[0;36mplay_match\u001b[0;34m(agent1, agent2)\u001b[0m\n\u001b[1;32m      5\u001b[0m     \u001b[0;32mwhile\u001b[0m \u001b[0;32mTrue\u001b[0m\u001b[0;34m:\u001b[0m\u001b[0;34m\u001b[0m\u001b[0;34m\u001b[0m\u001b[0m\n\u001b[1;32m      6\u001b[0m         \u001b[0ma\u001b[0m \u001b[0;34m=\u001b[0m \u001b[0magents\u001b[0m\u001b[0;34m[\u001b[0m\u001b[0mstep\u001b[0m\u001b[0;34m%\u001b[0m\u001b[0;36m2\u001b[0m\u001b[0;34m]\u001b[0m\u001b[0;34m(\u001b[0m\u001b[0mboard\u001b[0m\u001b[0;34m)\u001b[0m\u001b[0;34m\u001b[0m\u001b[0;34m\u001b[0m\u001b[0m\n\u001b[0;32m----> 7\u001b[0;31m         \u001b[0mboard\u001b[0m \u001b[0;34m=\u001b[0m \u001b[0mflip_board\u001b[0m\u001b[0;34m(\u001b[0m\u001b[0mget_next_state\u001b[0m\u001b[0;34m(\u001b[0m\u001b[0mboard\u001b[0m\u001b[0;34m,\u001b[0m \u001b[0ma\u001b[0m\u001b[0;34m)\u001b[0m\u001b[0;34m)\u001b[0m\u001b[0;34m\u001b[0m\u001b[0;34m\u001b[0m\u001b[0m\n\u001b[0m\u001b[1;32m      8\u001b[0m         \u001b[0mreward\u001b[0m\u001b[0;34m,\u001b[0m \u001b[0mgame_over\u001b[0m \u001b[0;34m=\u001b[0m \u001b[0mget_reward\u001b[0m\u001b[0;34m(\u001b[0m\u001b[0mboard\u001b[0m\u001b[0;34m)\u001b[0m\u001b[0;34m\u001b[0m\u001b[0;34m\u001b[0m\u001b[0m\n\u001b[1;32m      9\u001b[0m         \u001b[0;31m# print(step, board)\u001b[0m\u001b[0;34m\u001b[0m\u001b[0;34m\u001b[0m\u001b[0;34m\u001b[0m\u001b[0m\n",
            "\u001b[0;32m<ipython-input-17-9359b6b1520b>\u001b[0m in \u001b[0;36mazul_get_next_state\u001b[0;34m(board, action)\u001b[0m\n\u001b[1;32m      7\u001b[0m \u001b[0;34m\u001b[0m\u001b[0m\n\u001b[1;32m      8\u001b[0m \u001b[0;32mdef\u001b[0m \u001b[0mazul_get_next_state\u001b[0m\u001b[0;34m(\u001b[0m\u001b[0mboard\u001b[0m\u001b[0;34m,\u001b[0m \u001b[0maction\u001b[0m\u001b[0;34m)\u001b[0m\u001b[0;34m:\u001b[0m\u001b[0;34m\u001b[0m\u001b[0;34m\u001b[0m\u001b[0m\n\u001b[0;32m----> 9\u001b[0;31m   \u001b[0;32mreturn\u001b[0m \u001b[0mAzul_Simulator\u001b[0m\u001b[0;34m.\u001b[0m\u001b[0mget_next_state\u001b[0m\u001b[0;34m(\u001b[0m\u001b[0mboard\u001b[0m\u001b[0;34m,\u001b[0m \u001b[0maction\u001b[0m\u001b[0;34m,\u001b[0m \u001b[0mrng_azul\u001b[0m\u001b[0;34m)\u001b[0m\u001b[0;34m\u001b[0m\u001b[0;34m\u001b[0m\u001b[0m\n\u001b[0m\u001b[1;32m     10\u001b[0m \u001b[0;34m\u001b[0m\u001b[0m\n\u001b[1;32m     11\u001b[0m \u001b[0minit_board\u001b[0m \u001b[0;34m=\u001b[0m \u001b[0mazul_init_board\u001b[0m\u001b[0;34m\u001b[0m\u001b[0;34m\u001b[0m\u001b[0m\n",
            "\u001b[0;32m/content/Azul_Simulator.py\u001b[0m in \u001b[0;36mget_next_state\u001b[0;34m(state, action, rng)\u001b[0m\n\u001b[1;32m    622\u001b[0m         \u001b[0;31m# Noop is not a valid action\u001b[0m\u001b[0;34m\u001b[0m\u001b[0;34m\u001b[0m\u001b[0;34m\u001b[0m\u001b[0m\n\u001b[1;32m    623\u001b[0m         \u001b[0;32melse\u001b[0m\u001b[0;34m:\u001b[0m\u001b[0;34m\u001b[0m\u001b[0;34m\u001b[0m\u001b[0m\n\u001b[0;32m--> 624\u001b[0;31m             \u001b[0;32mraise\u001b[0m \u001b[0mRuntimeError\u001b[0m\u001b[0;34m(\u001b[0m\u001b[0;34m\"An illegal action was attempted\"\u001b[0m\u001b[0;34m)\u001b[0m\u001b[0;34m\u001b[0m\u001b[0;34m\u001b[0m\u001b[0m\n\u001b[0m\u001b[1;32m    625\u001b[0m     \u001b[0;31m# Must take a noop action\u001b[0m\u001b[0;34m\u001b[0m\u001b[0;34m\u001b[0m\u001b[0;34m\u001b[0m\u001b[0m\n\u001b[1;32m    626\u001b[0m     \u001b[0;32melif\u001b[0m \u001b[0mstate\u001b[0m\u001b[0;34m[\u001b[0m\u001b[0mnoop\u001b[0m\u001b[0;34m]\u001b[0m \u001b[0;34m==\u001b[0m \u001b[0;36m1\u001b[0m\u001b[0;34m:\u001b[0m\u001b[0;34m\u001b[0m\u001b[0;34m\u001b[0m\u001b[0m\n",
            "\u001b[0;31mRuntimeError\u001b[0m: An illegal action was attempted"
          ]
        }
      ],
      "source": [
        "def play_match(agent1, agent2):\n",
        "    board = init_board()\n",
        "    agents = [agent1, agent2]\n",
        "    step = 0\n",
        "    while True:\n",
        "        a = agents[step%2](board)\n",
        "        board = flip_board(get_next_state(board, a))\n",
        "        reward, game_over = get_reward(board)\n",
        "        # print(step, board)\n",
        "        if(game_over):\n",
        "            return reward**step\n",
        "        step += 1\n",
        "\n",
        "def multiple_episodes(f):\n",
        "  train_examples = []\n",
        "  for i in range(1):\n",
        "    train_examples += self_play_episode(f)\n",
        "  return train_examples\n",
        "\n",
        "rng_azul = np.random.default_rng(6546547)\n",
        "state = create_train_state(rng, 0.01, 0.1)\n",
        "old_agent = None\n",
        "for i in range(2):\n",
        "    print(f\"Batch {i}\")\n",
        "    train_examples = multiple_episodes(lambda x: model_agent(x, {'params': state.params}))\n",
        "    state_b, pa_b, r_b = batch_examples(train_examples)\n",
        "    state = train_step(state, state_b, pa_b, r_b)\n",
        "    new_agent = lambda b: learned_agent(b, state)\n",
        "    if i > 0:\n",
        "      match_results = []\n",
        "      for i in range(100):\n",
        "          match_results.append(play_match(new_agent, old_agent))\n",
        "      print(\"% matches won by new agent: \" + str(match_results.count(1)))\n",
        "      \n",
        "    old_agent = new_agent\n",
        "CKPT_DIR = 'ckpts'\n",
        "checkpoints.save_checkpoint(ckpt_dir=CKPT_DIR, target=state, step=15)\n",
        "state = checkpoints.restore_checkpoint(ckpt_dir=CKPT_DIR, target=state)"
      ]
    },
    {
      "cell_type": "code",
      "execution_count": null,
      "metadata": {
        "colab": {
          "base_uri": "https://localhost:8080/"
        },
        "id": "nJmxeFAPKBLE",
        "outputId": "a226ad7f-e6a5-455b-ab0c-e8207c5d3033"
      },
      "outputs": [
        {
          "output_type": "stream",
          "name": "stdout",
          "text": [
            "[ 0  0  0  0 17 17 15 16 15  0  0  0  0  0  1  0  2  1  0  0  0  2  1  1\n",
            "  1  0  0  0  3  1  2  0  1  0  0  1  1  1  1  0  0  0  0  0  1  0  0  0\n",
            "  0  0  0  0  0  0  0  0  0  0  0  0  0  0  0  0  0  0  0  0  0  0  0  0\n",
            "  0  0  0  0  0  0  0  0  0  0  0  0  0  0  0  0  0  0  0  0  0  0  0  0\n",
            "  0  0  0  0  0  0  0  0  0  0  0  0  0  0  0  0  0  0  0  0  0  0  0  0\n",
            "  0  0  0  0  0  0  0  0  0  0  0  0  0  0  0  0  0  0  0  0  0  0  0  0\n",
            "  0  0  0  0  0  0  0  0  0  0  0  0  0]\n"
          ]
        }
      ],
      "source": [
        "board_state = \"\"\"0  0  0  0 17 17 15 16 15  0  0  0  0  0  1  0  2  1  0  0  0  2  1  1\n",
        "  1  0  0  0  3  1  2  0  1  0  0  1  1  1  1  0  0  0  0  0  1  0  0  0\n",
        "  0  0  0  0  0  0  0  0  0  0  0  0  0  0  0  0  0  0  0  0  0  0  0  0\n",
        "  0  0  0  0  0  0  0  0  0  0  0  0  0  0  0  0  0  0  0  0  0  0  0  0\n",
        "  0  0  0  0  0  0  0  0  0  0  0  0  0  0  0  0  0  0  0  0  0  0  0  0\n",
        "  0  0  0  0  0  0  0  0  0  0  0  0  0  0  0  0  0  0  0  0  0  0  0  0\n",
        "  0  0  0  0  0  0  0  0  0  0  0  0  0\"\"\"\n",
        "board_state = np.array([int(x) for x in board_state.split()])\n",
        "print(board_state)"
      ]
    },
    {
      "cell_type": "code",
      "execution_count": null,
      "metadata": {
        "id": "aoJk0GwdKBLF",
        "outputId": "d6911e04-eb56-4110-f203-7cd1b6276282"
      },
      "outputs": [
        {
          "name": "stdout",
          "output_type": "stream",
          "text": [
            "FrozenDict({\n",
            "    Dense_0: {\n",
            "        bias: DeviceArray([ 7.5539996e-05, -2.6229705e-04,  2.5983555e-03,\n",
            "                     -4.8310179e-03, -6.4433562e-03, -3.2961060e-04,\n",
            "                      7.9944066e-04,  1.2149708e-03,  9.0993359e-04,\n",
            "                      2.0591991e-03,  9.2540222e-04,  6.2503228e-03,\n",
            "                     -1.0938551e-03, -5.1829522e-04, -3.5864476e-03,\n",
            "                     -4.0514045e-03,  1.9058562e-03, -4.6052770e-03,\n",
            "                      5.7108528e-03, -1.9058277e-03, -1.8281526e-03,\n",
            "                     -1.2033298e-03, -2.6344068e-04,  2.1659907e-04,\n",
            "                     -1.1286947e-03, -1.1178273e-03,  2.7374672e-03,\n",
            "                      3.9411386e-04,  1.0078683e-03, -6.1713008e-04,\n",
            "                      1.9626178e-04,  3.6481561e-03, -3.8246383e-04,\n",
            "                      8.3331414e-04,  3.9687715e-03,  1.1868543e-03,\n",
            "                      3.0341882e-03, -3.4531292e-03,  6.1419769e-04,\n",
            "                      7.2831719e-04, -7.0990680e-04, -2.5086561e-03,\n",
            "                     -1.6510846e-03,  1.3751477e-03, -7.2012222e-03,\n",
            "                      8.8673830e-04, -2.6822051e-03,  1.7761961e-04,\n",
            "                     -2.1246965e-03, -1.1734738e-03,  2.1769078e-03,\n",
            "                      2.8241670e-03, -6.9268025e-03,  5.9482356e-04,\n",
            "                     -2.0267481e-03, -5.6132604e-03, -3.5639631e-03,\n",
            "                     -6.7424186e-04,  8.9328171e-04, -3.2357208e-03,\n",
            "                     -3.8839262e-03, -2.1396158e-03,  1.0378109e-03,\n",
            "                      5.6264545e-03], dtype=float32),\n",
            "        kernel: DeviceArray([[-0.08309068, -0.01915907, -0.0408937 , ..., -0.00167919,\n",
            "                      -0.02923194, -0.07218923],\n",
            "                     [ 0.00150255,  0.02131769,  0.05981654, ...,  0.09593213,\n",
            "                      -0.06094249, -0.09126264],\n",
            "                     [-0.07373063,  0.09356779,  0.05398409, ...,  0.09545819,\n",
            "                      -0.07634725, -0.00793992],\n",
            "                     ...,\n",
            "                     [ 0.0422343 , -0.02696058, -0.09809831, ..., -0.13017215,\n",
            "                       0.13420992,  0.12359341],\n",
            "                     [-0.10476915,  0.02282684,  0.06266472, ...,  0.02406378,\n",
            "                      -0.10419921, -0.01851341],\n",
            "                     [-0.03424317, -0.01142319,  0.17173749, ...,  0.04406754,\n",
            "                       0.04053196,  0.02280431]], dtype=float32),\n",
            "    },\n",
            "    Dense_1: {\n",
            "        bias: DeviceArray([ 0.00775212, -0.0061665 , -0.01086718,  0.00801942,\n",
            "                      0.00024077,  0.00867952, -0.00273624, -0.01420447,\n",
            "                     -0.00715184, -0.01275589, -0.00821292,  0.00533251,\n",
            "                      0.01129027,  0.01522874, -0.00225475,  0.00228258,\n",
            "                     -0.00180045,  0.00943456, -0.00660334, -0.00816518,\n",
            "                     -0.01002928, -0.00224884,  0.0031249 ,  0.00825345,\n",
            "                     -0.0041214 , -0.00475407, -0.00165885, -0.00738706,\n",
            "                     -0.00911416, -0.0078595 , -0.01344805, -0.01110688],            dtype=float32),\n",
            "        kernel: DeviceArray([[ 0.10045628, -0.08062782,  0.05556983, ..., -0.14297806,\n",
            "                       0.15022932, -0.02854759],\n",
            "                     [ 0.19266368, -0.0756259 , -0.07846139, ..., -0.08062284,\n",
            "                       0.07830567,  0.06533918],\n",
            "                     [ 0.04644789, -0.24899901,  0.01847478, ..., -0.12101611,\n",
            "                      -0.06021082, -0.02580436],\n",
            "                     ...,\n",
            "                     [-0.03672592,  0.10806417,  0.04245961, ..., -0.1647157 ,\n",
            "                       0.07517868,  0.03574526],\n",
            "                     [ 0.06554127, -0.06436949, -0.13806906, ..., -0.01128016,\n",
            "                      -0.03125327, -0.08986408],\n",
            "                     [ 0.0910874 ,  0.04536535, -0.0623859 , ..., -0.0808573 ,\n",
            "                       0.12857154, -0.11394051]], dtype=float32),\n",
            "    },\n",
            "    Dense_2: {\n",
            "        bias: DeviceArray([ 6.8277996e-03, -7.3511382e-03,  2.7860482e-03,\n",
            "                      1.4305568e-03, -3.2679255e-03,  2.3671766e-03,\n",
            "                      2.4849938e-02,  6.5407535e-04,  3.2204080e-03,\n",
            "                      1.9081555e-03, -8.7781986e-03,  3.2853282e-03,\n",
            "                      3.3853814e-02,  6.3890573e-03,  3.0079822e-03,\n",
            "                      1.2456423e-03,  6.5728109e-03,  2.3887905e-03,\n",
            "                      2.9331181e-02,  2.4075133e-03,  1.8848092e-03,\n",
            "                      7.8325393e-04,  5.5181663e-03,  7.0653474e-03,\n",
            "                      2.0286247e-02,  7.3026684e-03,  8.6529501e-04,\n",
            "                      7.0930517e-04,  5.4089064e-03,  3.6685574e-03,\n",
            "                      3.0049330e-02, -1.6716014e-03, -7.7211950e-04,\n",
            "                     -7.1924487e-03, -6.3417666e-03, -1.4165271e-03,\n",
            "                     -2.3074278e-03, -2.8559687e-03, -2.8661396e-03,\n",
            "                     -5.5116536e-03, -3.0505047e-03, -3.5185626e-04,\n",
            "                      3.0885891e-03,  1.5506397e-03,  2.8103503e-04,\n",
            "                     -3.3271145e-03, -5.0099841e-03, -3.7218039e-03,\n",
            "                      6.2442990e-04,  6.7773648e-04, -8.1999315e-04,\n",
            "                     -1.6676170e-03, -6.3308068e-03, -6.0984064e-03,\n",
            "                      8.4041659e-04, -1.6237950e-03,  2.3056037e-04,\n",
            "                      2.4904408e-05, -6.6859787e-03, -1.7413982e-03,\n",
            "                      7.1967265e-04, -5.5215518e-05,  5.8184232e-04,\n",
            "                     -3.5054190e-03, -3.5234159e-05, -9.0103369e-04,\n",
            "                     -6.0418146e-03, -1.6125200e-03, -2.8434843e-03,\n",
            "                      3.4875548e-04, -2.0504326e-03, -1.8963231e-03,\n",
            "                      3.3713875e-03, -2.6819990e-03, -6.3951011e-03,\n",
            "                     -5.1400275e-04, -4.7717961e-03, -4.4668638e-03,\n",
            "                      2.2998180e-03,  1.1822108e-04, -2.9521610e-04,\n",
            "                     -2.4272229e-03, -1.9739529e-03, -7.9425477e-04,\n",
            "                     -1.0147452e-03, -7.9874866e-05, -2.1711576e-03,\n",
            "                      3.6307081e-04, -1.2016752e-03, -2.4443273e-03,\n",
            "                      6.5912021e-04, -9.3884376e-04,  2.6389028e-04,\n",
            "                      9.9392619e-06, -1.0728987e-04, -1.4164213e-03,\n",
            "                     -8.4191619e-04, -7.5792655e-04, -6.6603383e-04,\n",
            "                     -7.2426423e-03, -9.6386923e-03, -3.7674268e-04,\n",
            "                      5.7586851e-03,  4.6930774e-04,  1.5510865e-04,\n",
            "                     -3.4604084e-03, -9.1430852e-03, -9.5838011e-05,\n",
            "                      1.7881267e-03, -1.6955161e-04, -4.5898126e-04,\n",
            "                     -6.3444660e-03,  3.3264904e-04, -1.7843915e-04,\n",
            "                      1.1541783e-03, -1.5507571e-03, -5.4708688e-04,\n",
            "                     -1.0349939e-03, -3.6149363e-03, -3.2484139e-04,\n",
            "                      1.5882541e-03, -7.2462310e-04, -2.7620015e-04,\n",
            "                     -1.7036661e-03, -6.4268108e-03, -2.1873895e-04,\n",
            "                      4.8555471e-03, -3.1200536e-03,  8.6240172e-05,\n",
            "                      7.9193094e-05, -4.6364386e-03, -1.4761940e-03,\n",
            "                      2.5313024e-03, -7.1306522e-03,  1.9729136e-04,\n",
            "                     -2.4569347e-03, -3.9229220e-05, -1.6972717e-03,\n",
            "                      4.8581458e-04, -2.1845230e-03, -1.2049594e-04,\n",
            "                      3.9148348e-04, -1.5421532e-03, -1.0128956e-02,\n",
            "                      5.7989935e-05,  6.3220324e-04,  4.0219721e-04,\n",
            "                      8.1513962e-04, -1.3371039e-03, -2.6618384e-04,\n",
            "                      4.6066828e-03, -1.5400324e-03, -5.9735012e-05,\n",
            "                      2.6365144e-05, -1.5567727e-03, -1.1173961e-03,\n",
            "                     -3.5486280e-03, -1.5078337e-03, -3.3807664e-03,\n",
            "                     -6.6811976e-04, -2.5852595e-03, -2.0690127e-03,\n",
            "                      1.1543892e-03, -1.8599743e-03,  3.2990138e-05,\n",
            "                     -1.8030127e-05, -4.6965733e-04, -2.4759426e-04,\n",
            "                      1.4710271e-03,  3.7208680e-04, -6.7747151e-04,\n",
            "                     -4.2066313e-03,  1.5129424e-05,  1.7129463e-04,\n",
            "                      2.6059530e-03, -1.2998510e-03, -1.3390789e-04,\n",
            "                     -2.4800603e-03, -6.4227899e-04, -3.8930570e-04,\n",
            "                      1.4314411e-03], dtype=float32),\n",
            "        kernel: DeviceArray([[-0.08481734,  0.05825999, -0.11767732, ..., -0.02696079,\n",
            "                       0.06248991,  0.18550143],\n",
            "                     [ 0.05000949, -0.07259618, -0.00887964, ...,  0.2763811 ,\n",
            "                       0.01113145, -0.01909466],\n",
            "                     [ 0.16335526, -0.0079132 ,  0.08146655, ..., -0.34612703,\n",
            "                       0.07850365, -0.35532254],\n",
            "                     ...,\n",
            "                     [-0.108262  ,  0.24060191,  0.13562272, ...,  0.03324699,\n",
            "                      -0.1492669 , -0.20205222],\n",
            "                     [-0.19254301,  0.24795635,  0.04443847, ...,  0.13755427,\n",
            "                       0.09594491,  0.1412    ],\n",
            "                     [-0.18947288,  0.22827622, -0.28838333, ..., -0.24390012,\n",
            "                      -0.02646462,  0.2363731 ]], dtype=float32),\n",
            "    },\n",
            "    Dense_3: {\n",
            "        bias: DeviceArray([-0.0184716], dtype=float32),\n",
            "        kernel: DeviceArray([[ 0.12733781],\n",
            "                     [ 0.31321225],\n",
            "                     [ 0.29109713],\n",
            "                     [ 0.11428875],\n",
            "                     [-0.00080078],\n",
            "                     [-0.22162998],\n",
            "                     [ 0.04743683],\n",
            "                     [ 0.17120084],\n",
            "                     [ 0.08610315],\n",
            "                     [ 0.23615922],\n",
            "                     [ 0.246503  ],\n",
            "                     [-0.34563866],\n",
            "                     [ 0.04736171],\n",
            "                     [ 0.1571125 ],\n",
            "                     [-0.02533793],\n",
            "                     [ 0.06835319],\n",
            "                     [ 0.17289203],\n",
            "                     [-0.34266695],\n",
            "                     [ 0.09398168],\n",
            "                     [-0.13971576],\n",
            "                     [-0.00164171],\n",
            "                     [ 0.01102725],\n",
            "                     [-0.08041279],\n",
            "                     [ 0.11374003],\n",
            "                     [ 0.29050738],\n",
            "                     [-0.267609  ],\n",
            "                     [ 0.0337115 ],\n",
            "                     [-0.04978331],\n",
            "                     [ 0.02912134],\n",
            "                     [ 0.34274527],\n",
            "                     [-0.08043683],\n",
            "                     [ 0.12246778]], dtype=float32),\n",
            "    },\n",
            "})\n"
          ]
        }
      ],
      "source": [
        "print(state.params)"
      ]
    },
    {
      "cell_type": "code",
      "execution_count": null,
      "metadata": {
        "id": "EJUBOv6qKBLG",
        "outputId": "6b6ced42-d7b6-49d0-9dee-69940e75b83f"
      },
      "outputs": [
        {
          "name": "stdout",
          "output_type": "stream",
          "text": [
            "[6.61972212e-04 1.06882646e-04 9.58195415e-06 8.19484144e-03\n",
            " 1.64499608e-04 1.54667541e-05 1.01093046e-01 9.83312377e-04\n",
            " 8.61460716e-03 2.27564131e-04 1.03530613e-06 3.64517095e-04\n",
            " 2.52952403e-03 1.96044450e-04 2.52433674e-04 8.65959302e-02\n",
            " 1.03253487e-05 5.05524667e-06 2.00281829e-05 3.28899114e-06\n",
            " 1.07863525e-04 8.69145035e-04 5.29986247e-03 2.56957747e-02\n",
            " 3.89611840e-01 1.56102498e-04 5.83242141e-02 3.14369281e-05\n",
            " 6.59584475e-04 7.73228930e-06 4.50158678e-02 4.60651063e-05\n",
            " 7.06055216e-05 1.12472022e-04 5.84513546e-05 1.01297868e-04\n",
            " 7.59194465e-03 1.92786218e-04 3.28425522e-04 3.95769166e-05\n",
            " 1.05270406e-03 8.32417209e-05 4.63876757e-04 1.69036889e-06\n",
            " 3.13826822e-05 1.93583128e-05 2.40344182e-03 1.71101477e-04\n",
            " 1.81405721e-05 6.94271759e-04 2.46572999e-05 1.66971498e-04\n",
            " 1.76833849e-03 3.76397953e-03 1.89580460e-04 8.06832613e-05\n",
            " 4.92503477e-06 4.02021396e-04 7.22189652e-05 1.72823656e-03\n",
            " 6.47895940e-05 2.08207942e-03 6.41796651e-05 8.77270504e-05\n",
            " 1.36095172e-04 1.92338799e-03 4.96469220e-05 2.01306920e-02\n",
            " 2.26199583e-04 7.44344152e-06 1.76023095e-04 4.34808953e-06\n",
            " 3.07858718e-04 6.95352792e-05 3.31657066e-06 2.24950141e-04\n",
            " 2.26128600e-06 4.87579178e-04 6.71934549e-06 2.55076117e-07\n",
            " 1.26831537e-06 5.04733995e-03 7.08593143e-06 5.03648480e-04\n",
            " 1.10657262e-02 1.49510083e-06 4.27173763e-05 9.30850845e-08\n",
            " 1.00855180e-03 1.07367209e-03 3.35472152e-02 2.93528701e-05\n",
            " 6.76941825e-04 2.90987316e-07 2.17133696e-04 2.65380186e-05\n",
            " 1.01460879e-04 9.22735853e-05 2.38051958e-04 3.87789260e-06\n",
            " 7.82621441e-07 4.10873463e-06 1.20295752e-02 1.47443259e-07\n",
            " 3.09723732e-03 1.80449558e-06 3.21551971e-02 4.62222961e-05\n",
            " 1.38487812e-05 6.99135358e-04 5.12053724e-04 7.06518549e-05\n",
            " 2.74902239e-04 2.13494859e-04 1.87878599e-04 8.35626997e-06\n",
            " 1.03639622e-05 1.29597163e-06 8.98406797e-05 2.26039600e-04\n",
            " 1.11062018e-05 1.47899418e-05 8.46365729e-05 6.04275335e-03\n",
            " 1.09320867e-03 5.31464366e-06 4.13174675e-05 5.56632469e-04\n",
            " 1.90379542e-05 5.40974497e-07 4.06265783e-04 1.70823070e-04\n",
            " 1.35461130e-04 2.41485359e-05 2.32153252e-06 3.82281025e-04\n",
            " 2.05528249e-05 1.12393202e-04 2.81660091e-02 3.99377244e-03\n",
            " 3.79840756e-04 2.38365214e-06 1.81466469e-03 5.07979021e-05\n",
            " 3.42726344e-05 8.85325153e-06 8.47922911e-06 6.97100360e-04\n",
            " 8.82980601e-07 2.29469384e-04 1.87360076e-03 2.08473764e-04\n",
            " 2.20848990e-04 2.78233165e-06 3.79418395e-07 2.92060895e-06\n",
            " 1.71017455e-05 4.52806018e-02 2.81861176e-05 1.63507604e-04\n",
            " 1.57862625e-04 2.26443899e-06 2.67914438e-05 8.06827156e-05\n",
            " 3.48879927e-04 2.51959136e-04 2.28763929e-05 2.06660654e-04\n",
            " 2.82953824e-05 7.40135965e-06 1.26692222e-03 4.89889819e-04\n",
            " 4.49469735e-05 1.19562383e-05 4.10284352e-04 1.75854308e-04\n",
            " 1.23155996e-05 4.37845592e-05 1.44520876e-04 5.60499248e-05\n",
            " 1.70066282e-02]\n"
          ]
        }
      ],
      "source": [
        "prior, reward = model_agent(board_state, {'params': state.params})\n",
        "print(prior)"
      ]
    },
    {
      "cell_type": "code",
      "execution_count": null,
      "metadata": {
        "id": "3ehsY2GvKBLH",
        "outputId": "4e7322c2-7a4f-4d95-8736-9d6f372cf08a"
      },
      "outputs": [
        {
          "name": "stdout",
          "output_type": "stream",
          "text": [
            "0.3578067 2.2307382e-12\n"
          ]
        }
      ],
      "source": [
        "print(prior.max(), prior.min())"
      ]
    },
    {
      "cell_type": "code",
      "execution_count": 25,
      "metadata": {
        "id": "-qWA8E0opP6Q"
      },
      "outputs": [],
      "source": [
        "\"\"\"board = np.array([1, -1, 0, -1, 1, 0, -1, 0, -1])\n",
        "# board = np.zeros_like(board)\n",
        "print(board.reshape((3,3)))\n",
        "model = TTTModel()\n",
        "action_prior, value = model.apply({'params': state.params}, board)\n",
        "print(action_prior.reshape((3,3)), value)\"\"\"\n",
        "\n",
        "def learned_agent(board, state):\n",
        "    prior = model_agent(board, {'params': state.params})[0]\n",
        "    prior *= get_valid_mask(board)\n",
        "    return np.argmax(prior)\n",
        "\n",
        "def random_agent(board):\n",
        "    valid_mask = np.float32(get_valid_mask(board))\n",
        "    if valid_mask.sum() == 0:\n",
        "      print(board)\n",
        "      print(valid_mask)\n",
        "    valid_mask /= valid_mask.sum()\n",
        "    return np.random.choice(181, p=valid_mask)"
      ]
    },
    {
      "cell_type": "code",
      "execution_count": 21,
      "metadata": {
        "id": "N-5DSwwmpP6Q",
        "outputId": "a5d82bdf-c5b8-45a9-872e-42f8caef3efb",
        "colab": {
          "base_uri": "https://localhost:8080/",
          "height": 336
        }
      },
      "outputs": [
        {
          "output_type": "stream",
          "name": "stdout",
          "text": [
            "Completed 0 matches.\n"
          ]
        },
        {
          "output_type": "execute_result",
          "data": {
            "text/plain": [
              "(array([18.,  2., 80.]),\n",
              " array([-1.        , -0.33333333,  0.33333333,  1.        ]),\n",
              " <a list of 3 Patch objects>)"
            ]
          },
          "metadata": {},
          "execution_count": 21
        },
        {
          "output_type": "display_data",
          "data": {
            "text/plain": [
              "<Figure size 432x288 with 1 Axes>"
            ],
            "image/png": "[encoded data removed]"
          },
          "metadata": {
            "needs_background": "light"
          }
        }
      ],
      "source": [
        "def play_match(agent1, agent2):\n",
        "    board = init_board()\n",
        "    agents = [agent1, agent2]\n",
        "    step = 0\n",
        "    while True:\n",
        "        a = agents[step%2](board)\n",
        "        board = flip_board(get_next_state(board, a))\n",
        "        reward, game_over = get_reward(board)\n",
        "        # print(step, board)\n",
        "        if(game_over):\n",
        "            return reward**step\n",
        "        step += 1\n",
        "\n",
        "match_results = []\n",
        "for i in range(100):\n",
        "    if i % 100 == 0:\n",
        "      print(\"Completed \" + str(i) + \" matches.\")\n",
        "    match_results.append(play_match(learned_agent, random_agent))\n",
        "plt.hist(match_results, bins=3)"
      ]
    },
    {
      "cell_type": "code",
      "execution_count": null,
      "metadata": {
        "id": "zVxStAx1pP6S"
      },
      "outputs": [],
      "source": []
    },
    {
      "cell_type": "code",
      "execution_count": null,
      "metadata": {
        "id": "AHpq1L_WpP6S",
        "outputId": "b1dcafef-00ec-40ab-93f0-fa69f8615f64",
        "colab": {
          "base_uri": "https://localhost:8080/",
          "height": 319
        }
      },
      "outputs": [
        {
          "output_type": "execute_result",
          "data": {
            "text/plain": [
              "(array([245.,   0.,   0.,   0.,   0.,  10.,   0.,   0.,   0., 745.]),\n",
              " array([-1. , -0.8, -0.6, -0.4, -0.2,  0. ,  0.2,  0.4,  0.6,  0.8,  1. ]),\n",
              " <a list of 10 Patch objects>)"
            ]
          },
          "metadata": {},
          "execution_count": 63
        },
        {
          "output_type": "display_data",
          "data": {
            "text/plain": [
              "<Figure size 432x288 with 1 Axes>"
            ],
            "image/png": "[encoded data removed]"
          },
          "metadata": {
            "needs_background": "light"
          }
        }
      ],
      "source": [
        "match_results = []\n",
        "for i in range(1000):\n",
        "    match_results.append(play_match(random_agent, random_agent))\n",
        "plt.hist(match_results)"
      ]
    },
    {
      "cell_type": "code",
      "source": [
        "print(\"Welcome to the Azul Simulator!\")\n",
        "print()\n",
        "board = azul_init_board()\n",
        "disp_board(board)\n",
        "print()\n",
        "computer_turn = False\n",
        "end = False\n",
        "\n",
        "while not end:\n",
        "    if computer_turn:\n",
        "        print(\"Computer's turn...\")\n",
        "    else:\n",
        "        print(\"Player's turn...\")\n",
        "    print(\"Enter a move: \")\n",
        "    \n",
        "    # Flip the state to put all player data in the current player section\n",
        "    if not computer_turn:\n",
        "        board = flip_board(board)\n",
        "        invalid_action_or_input = True\n",
        "\n",
        "        while invalid_action_or_input:\n",
        "            input_string = input()\n",
        "            board, error = Azul_Simulator.take_action_from_string(board, input_string, rng_azul)\n",
        "\n",
        "            # Validate input_string\n",
        "            if error:\n",
        "                print(\"Enter a different move: \")\n",
        "                continue\n",
        "            invalid_action_or_input = False\n",
        "        board = flip_board(board)\n",
        "    else:\n",
        "        action = learned_agent(board)\n",
        "        board = get_next_state(board, action)\n",
        "\n",
        "    reward, end = get_reward(board)\n",
        "    if end and reward == -1:\n",
        "        print()\n",
        "        print(\"Computer wins!!!\")\n",
        "        break\n",
        "    elif end and reward == 1:\n",
        "        print()\n",
        "        print(\"Player wins!!!\")\n",
        "        break\n",
        "\n",
        "    disp_board(board)\n",
        "\n",
        "    if board[Azul_Simulator.State_Indices.NOOP.value] == 1:\n",
        "        board = get_next_state(board, Azul_Simulator.Action_Indices.NOOP.value)\n",
        "    else:\n",
        "        computer_turn = not computer_turn"
      ],
      "metadata": {
        "colab": {
          "base_uri": "https://localhost:8080/",
          "height": 1000
        },
        "id": "cRDm22mHEcs6",
        "outputId": "e20d90d2-5e6f-47e4-936c-5848798846f7"
      },
      "execution_count": 22,
      "outputs": [
        {
          "output_type": "stream",
          "name": "stdout",
          "text": [
            "Welcome to the Azul Simulator!\n",
            "\n",
            "##############################################\n",
            "TABLE:\n",
            "----------------------------------------------\n",
            "Center:     *1*                     (no \u001b[34mB\u001b[39m\u001b[33mY\u001b[39m\u001b[31mR\u001b[39m\u001b[30mD\u001b[39m\u001b[37mW\u001b[39m)\n",
            "Factory #1: \u001b[34mB\u001b[39m\u001b[31mR\u001b[39m\u001b[31mR\u001b[39m\u001b[31mR\u001b[39m                    (no \u001b[33mY\u001b[39m\u001b[30mD\u001b[39m\u001b[37mW\u001b[39m)\n",
            "Factory #2: \u001b[33mY\u001b[39m\u001b[33mY\u001b[39m\u001b[31mR\u001b[39m\u001b[31mR\u001b[39m                    (no \u001b[34mB\u001b[39m\u001b[30mD\u001b[39m\u001b[37mW\u001b[39m)\n",
            "Factory #3: \u001b[34mB\u001b[39m\u001b[33mY\u001b[39m\u001b[30mD\u001b[39m\u001b[37mW\u001b[39m                    (no \u001b[31mR\u001b[39m)\n",
            "Factory #4: \u001b[31mR\u001b[39m\u001b[31mR\u001b[39m\u001b[30mD\u001b[39m\u001b[30mD\u001b[39m                    (no \u001b[34mB\u001b[39m\u001b[33mY\u001b[39m\u001b[37mW\u001b[39m)\n",
            "Factory #5: \u001b[34mB\u001b[39m\u001b[33mY\u001b[39m\u001b[37mW\u001b[39m\u001b[37mW\u001b[39m                    (no \u001b[31mR\u001b[39m\u001b[30mD\u001b[39m)\n",
            "----------------------------------------------\n",
            "\n",
            "COMPUTER: (score - 0)\n",
            "----------------------------------------------\n",
            "        _  | \u001b[34mB\u001b[39m \u001b[33mY\u001b[39m \u001b[31mR\u001b[39m \u001b[30mD\u001b[39m \u001b[37mW\u001b[39m \n",
            "      _ _  | \u001b[37mW\u001b[39m \u001b[34mB\u001b[39m \u001b[33mY\u001b[39m \u001b[31mR\u001b[39m \u001b[30mD\u001b[39m \n",
            "    _ _ _  | \u001b[30mD\u001b[39m \u001b[37mW\u001b[39m \u001b[34mB\u001b[39m \u001b[33mY\u001b[39m \u001b[31mR\u001b[39m \n",
            "  _ _ _ _  | \u001b[31mR\u001b[39m \u001b[30mD\u001b[39m \u001b[37mW\u001b[39m \u001b[34mB\u001b[39m \u001b[33mY\u001b[39m \n",
            "_ _ _ _ _  | \u001b[33mY\u001b[39m \u001b[31mR\u001b[39m \u001b[30mD\u001b[39m \u001b[37mW\u001b[39m \u001b[34mB\u001b[39m \n",
            "\n",
            "Floor: \n",
            "----------------------------------------------\n",
            "\n",
            "PLAYER: (score - 0)\n",
            "----------------------------------------------\n",
            "        _  | \u001b[34mB\u001b[39m \u001b[33mY\u001b[39m \u001b[31mR\u001b[39m \u001b[30mD\u001b[39m \u001b[37mW\u001b[39m \n",
            "      _ _  | \u001b[37mW\u001b[39m \u001b[34mB\u001b[39m \u001b[33mY\u001b[39m \u001b[31mR\u001b[39m \u001b[30mD\u001b[39m \n",
            "    _ _ _  | \u001b[30mD\u001b[39m \u001b[37mW\u001b[39m \u001b[34mB\u001b[39m \u001b[33mY\u001b[39m \u001b[31mR\u001b[39m \n",
            "  _ _ _ _  | \u001b[31mR\u001b[39m \u001b[30mD\u001b[39m \u001b[37mW\u001b[39m \u001b[34mB\u001b[39m \u001b[33mY\u001b[39m \n",
            "_ _ _ _ _  | \u001b[33mY\u001b[39m \u001b[31mR\u001b[39m \u001b[30mD\u001b[39m \u001b[37mW\u001b[39m \u001b[34mB\u001b[39m \n",
            "\n",
            "Floor: \n",
            "----------------------------------------------\n",
            "##############################################\n",
            "\n",
            "Player's turn...\n",
            "Enter a move: \n",
            "1R4\n",
            "##############################################\n",
            "TABLE:\n",
            "----------------------------------------------\n",
            "Center:     *1*\u001b[34mB\u001b[39m                    (no \u001b[33mY\u001b[39m\u001b[31mR\u001b[39m\u001b[30mD\u001b[39m\u001b[37mW\u001b[39m)\n",
            "Factory #1:                         (no \u001b[34mB\u001b[39m\u001b[33mY\u001b[39m\u001b[31mR\u001b[39m\u001b[30mD\u001b[39m\u001b[37mW\u001b[39m)\n",
            "Factory #2: \u001b[33mY\u001b[39m\u001b[33mY\u001b[39m\u001b[31mR\u001b[39m\u001b[31mR\u001b[39m                    (no \u001b[34mB\u001b[39m\u001b[30mD\u001b[39m\u001b[37mW\u001b[39m)\n",
            "Factory #3: \u001b[34mB\u001b[39m\u001b[33mY\u001b[39m\u001b[30mD\u001b[39m\u001b[37mW\u001b[39m                    (no \u001b[31mR\u001b[39m)\n",
            "Factory #4: \u001b[31mR\u001b[39m\u001b[31mR\u001b[39m\u001b[30mD\u001b[39m\u001b[30mD\u001b[39m                    (no \u001b[34mB\u001b[39m\u001b[33mY\u001b[39m\u001b[37mW\u001b[39m)\n",
            "Factory #5: \u001b[34mB\u001b[39m\u001b[33mY\u001b[39m\u001b[37mW\u001b[39m\u001b[37mW\u001b[39m                    (no \u001b[31mR\u001b[39m\u001b[30mD\u001b[39m)\n",
            "----------------------------------------------\n",
            "\n",
            "COMPUTER: (score - 0)\n",
            "----------------------------------------------\n",
            "        _  | \u001b[34mB\u001b[39m \u001b[33mY\u001b[39m \u001b[31mR\u001b[39m \u001b[30mD\u001b[39m \u001b[37mW\u001b[39m \n",
            "      _ _  | \u001b[37mW\u001b[39m \u001b[34mB\u001b[39m \u001b[33mY\u001b[39m \u001b[31mR\u001b[39m \u001b[30mD\u001b[39m \n",
            "    _ _ _  | \u001b[30mD\u001b[39m \u001b[37mW\u001b[39m \u001b[34mB\u001b[39m \u001b[33mY\u001b[39m \u001b[31mR\u001b[39m \n",
            "  _ _ _ _  | \u001b[31mR\u001b[39m \u001b[30mD\u001b[39m \u001b[37mW\u001b[39m \u001b[34mB\u001b[39m \u001b[33mY\u001b[39m \n",
            "_ _ _ _ _  | \u001b[33mY\u001b[39m \u001b[31mR\u001b[39m \u001b[30mD\u001b[39m \u001b[37mW\u001b[39m \u001b[34mB\u001b[39m \n",
            "\n",
            "Floor: \n",
            "----------------------------------------------\n",
            "\n",
            "PLAYER: (score - 0)\n",
            "----------------------------------------------\n",
            "        _  | \u001b[34mB\u001b[39m \u001b[33mY\u001b[39m \u001b[31mR\u001b[39m \u001b[30mD\u001b[39m \u001b[37mW\u001b[39m \n",
            "      _ _  | \u001b[37mW\u001b[39m \u001b[34mB\u001b[39m \u001b[33mY\u001b[39m \u001b[31mR\u001b[39m \u001b[30mD\u001b[39m \n",
            "    _ _ _  | \u001b[30mD\u001b[39m \u001b[37mW\u001b[39m \u001b[34mB\u001b[39m \u001b[33mY\u001b[39m \u001b[31mR\u001b[39m \n",
            "  _ \u001b[31mR\u001b[39m \u001b[31mR\u001b[39m \u001b[31mR\u001b[39m  | \u001b[31mR\u001b[39m \u001b[30mD\u001b[39m \u001b[37mW\u001b[39m \u001b[34mB\u001b[39m \u001b[33mY\u001b[39m \n",
            "_ _ _ _ _  | \u001b[33mY\u001b[39m \u001b[31mR\u001b[39m \u001b[30mD\u001b[39m \u001b[37mW\u001b[39m \u001b[34mB\u001b[39m \n",
            "\n",
            "Floor: \n",
            "----------------------------------------------\n",
            "##############################################\n",
            "Computer's turn...\n",
            "Enter a move: \n",
            "##############################################\n",
            "TABLE:\n",
            "----------------------------------------------\n",
            "Center:     *1*\u001b[34mB\u001b[39m\u001b[34mB\u001b[39m\u001b[33mY\u001b[39m\u001b[37mW\u001b[39m                 (no \u001b[31mR\u001b[39m\u001b[30mD\u001b[39m)\n",
            "Factory #1:                         (no \u001b[34mB\u001b[39m\u001b[33mY\u001b[39m\u001b[31mR\u001b[39m\u001b[30mD\u001b[39m\u001b[37mW\u001b[39m)\n",
            "Factory #2: \u001b[33mY\u001b[39m\u001b[33mY\u001b[39m\u001b[31mR\u001b[39m\u001b[31mR\u001b[39m                    (no \u001b[34mB\u001b[39m\u001b[30mD\u001b[39m\u001b[37mW\u001b[39m)\n",
            "Factory #3:                         (no \u001b[34mB\u001b[39m\u001b[33mY\u001b[39m\u001b[31mR\u001b[39m\u001b[30mD\u001b[39m\u001b[37mW\u001b[39m)\n",
            "Factory #4: \u001b[31mR\u001b[39m\u001b[31mR\u001b[39m\u001b[30mD\u001b[39m\u001b[30mD\u001b[39m                    (no \u001b[34mB\u001b[39m\u001b[33mY\u001b[39m\u001b[37mW\u001b[39m)\n",
            "Factory #5: \u001b[34mB\u001b[39m\u001b[33mY\u001b[39m\u001b[37mW\u001b[39m\u001b[37mW\u001b[39m                    (no \u001b[31mR\u001b[39m\u001b[30mD\u001b[39m)\n",
            "----------------------------------------------\n",
            "\n",
            "COMPUTER: (score - 0)\n",
            "----------------------------------------------\n",
            "        _  | \u001b[34mB\u001b[39m \u001b[33mY\u001b[39m \u001b[31mR\u001b[39m \u001b[30mD\u001b[39m \u001b[37mW\u001b[39m \n",
            "      _ \u001b[30mD\u001b[39m  | \u001b[37mW\u001b[39m \u001b[34mB\u001b[39m \u001b[33mY\u001b[39m \u001b[31mR\u001b[39m \u001b[30mD\u001b[39m \n",
            "    _ _ _  | \u001b[30mD\u001b[39m \u001b[37mW\u001b[39m \u001b[34mB\u001b[39m \u001b[33mY\u001b[39m \u001b[31mR\u001b[39m \n",
            "  _ _ _ _  | \u001b[31mR\u001b[39m \u001b[30mD\u001b[39m \u001b[37mW\u001b[39m \u001b[34mB\u001b[39m \u001b[33mY\u001b[39m \n",
            "_ _ _ _ _  | \u001b[33mY\u001b[39m \u001b[31mR\u001b[39m \u001b[30mD\u001b[39m \u001b[37mW\u001b[39m \u001b[34mB\u001b[39m \n",
            "\n",
            "Floor: \n",
            "----------------------------------------------\n",
            "\n",
            "PLAYER: (score - 0)\n",
            "----------------------------------------------\n",
            "        _  | \u001b[34mB\u001b[39m \u001b[33mY\u001b[39m \u001b[31mR\u001b[39m \u001b[30mD\u001b[39m \u001b[37mW\u001b[39m \n",
            "      _ _  | \u001b[37mW\u001b[39m \u001b[34mB\u001b[39m \u001b[33mY\u001b[39m \u001b[31mR\u001b[39m \u001b[30mD\u001b[39m \n",
            "    _ _ _  | \u001b[30mD\u001b[39m \u001b[37mW\u001b[39m \u001b[34mB\u001b[39m \u001b[33mY\u001b[39m \u001b[31mR\u001b[39m \n",
            "  _ \u001b[31mR\u001b[39m \u001b[31mR\u001b[39m \u001b[31mR\u001b[39m  | \u001b[31mR\u001b[39m \u001b[30mD\u001b[39m \u001b[37mW\u001b[39m \u001b[34mB\u001b[39m \u001b[33mY\u001b[39m \n",
            "_ _ _ _ _  | \u001b[33mY\u001b[39m \u001b[31mR\u001b[39m \u001b[30mD\u001b[39m \u001b[37mW\u001b[39m \u001b[34mB\u001b[39m \n",
            "\n",
            "Floor: \n",
            "----------------------------------------------\n",
            "##############################################\n",
            "Player's turn...\n",
            "Enter a move: \n"
          ]
        },
        {
          "output_type": "error",
          "ename": "KeyboardInterrupt",
          "evalue": "ignored",
          "traceback": [
            "\u001b[0;31m---------------------------------------------------------------------------\u001b[0m",
            "\u001b[0;31mKeyboardInterrupt\u001b[0m                         Traceback (most recent call last)",
            "\u001b[0;32m<ipython-input-22-661668aeac0d>\u001b[0m in \u001b[0;36m<module>\u001b[0;34m\u001b[0m\n\u001b[1;32m     20\u001b[0m \u001b[0;34m\u001b[0m\u001b[0m\n\u001b[1;32m     21\u001b[0m         \u001b[0;32mwhile\u001b[0m \u001b[0minvalid_action_or_input\u001b[0m\u001b[0;34m:\u001b[0m\u001b[0;34m\u001b[0m\u001b[0;34m\u001b[0m\u001b[0m\n\u001b[0;32m---> 22\u001b[0;31m             \u001b[0minput_string\u001b[0m \u001b[0;34m=\u001b[0m \u001b[0minput\u001b[0m\u001b[0;34m(\u001b[0m\u001b[0;34m)\u001b[0m\u001b[0;34m\u001b[0m\u001b[0;34m\u001b[0m\u001b[0m\n\u001b[0m\u001b[1;32m     23\u001b[0m             \u001b[0mboard\u001b[0m\u001b[0;34m,\u001b[0m \u001b[0merror\u001b[0m \u001b[0;34m=\u001b[0m \u001b[0mAzul_Simulator\u001b[0m\u001b[0;34m.\u001b[0m\u001b[0mtake_action_from_string\u001b[0m\u001b[0;34m(\u001b[0m\u001b[0mboard\u001b[0m\u001b[0;34m,\u001b[0m \u001b[0minput_string\u001b[0m\u001b[0;34m,\u001b[0m \u001b[0mrng_azul\u001b[0m\u001b[0;34m)\u001b[0m\u001b[0;34m\u001b[0m\u001b[0;34m\u001b[0m\u001b[0m\n\u001b[1;32m     24\u001b[0m \u001b[0;34m\u001b[0m\u001b[0m\n",
            "\u001b[0;32m/usr/local/lib/python3.8/dist-packages/ipykernel/kernelbase.py\u001b[0m in \u001b[0;36mraw_input\u001b[0;34m(self, prompt)\u001b[0m\n\u001b[1;32m    858\u001b[0m                 \u001b[0;34m\"raw_input was called, but this frontend does not support input requests.\"\u001b[0m\u001b[0;34m\u001b[0m\u001b[0;34m\u001b[0m\u001b[0m\n\u001b[1;32m    859\u001b[0m             )\n\u001b[0;32m--> 860\u001b[0;31m         return self._input_request(str(prompt),\n\u001b[0m\u001b[1;32m    861\u001b[0m             \u001b[0mself\u001b[0m\u001b[0;34m.\u001b[0m\u001b[0m_parent_ident\u001b[0m\u001b[0;34m,\u001b[0m\u001b[0;34m\u001b[0m\u001b[0;34m\u001b[0m\u001b[0m\n\u001b[1;32m    862\u001b[0m             \u001b[0mself\u001b[0m\u001b[0;34m.\u001b[0m\u001b[0m_parent_header\u001b[0m\u001b[0;34m,\u001b[0m\u001b[0;34m\u001b[0m\u001b[0;34m\u001b[0m\u001b[0m\n",
            "\u001b[0;32m/usr/local/lib/python3.8/dist-packages/ipykernel/kernelbase.py\u001b[0m in \u001b[0;36m_input_request\u001b[0;34m(self, prompt, ident, parent, password)\u001b[0m\n\u001b[1;32m    902\u001b[0m             \u001b[0;32mexcept\u001b[0m \u001b[0mKeyboardInterrupt\u001b[0m\u001b[0;34m:\u001b[0m\u001b[0;34m\u001b[0m\u001b[0;34m\u001b[0m\u001b[0m\n\u001b[1;32m    903\u001b[0m                 \u001b[0;31m# re-raise KeyboardInterrupt, to truncate traceback\u001b[0m\u001b[0;34m\u001b[0m\u001b[0;34m\u001b[0m\u001b[0;34m\u001b[0m\u001b[0m\n\u001b[0;32m--> 904\u001b[0;31m                 \u001b[0;32mraise\u001b[0m \u001b[0mKeyboardInterrupt\u001b[0m\u001b[0;34m(\u001b[0m\u001b[0;34m\"Interrupted by user\"\u001b[0m\u001b[0;34m)\u001b[0m \u001b[0;32mfrom\u001b[0m \u001b[0;32mNone\u001b[0m\u001b[0;34m\u001b[0m\u001b[0;34m\u001b[0m\u001b[0m\n\u001b[0m\u001b[1;32m    905\u001b[0m             \u001b[0;32mexcept\u001b[0m \u001b[0mException\u001b[0m \u001b[0;32mas\u001b[0m \u001b[0me\u001b[0m\u001b[0;34m:\u001b[0m\u001b[0;34m\u001b[0m\u001b[0;34m\u001b[0m\u001b[0m\n\u001b[1;32m    906\u001b[0m                 \u001b[0mself\u001b[0m\u001b[0;34m.\u001b[0m\u001b[0mlog\u001b[0m\u001b[0;34m.\u001b[0m\u001b[0mwarning\u001b[0m\u001b[0;34m(\u001b[0m\u001b[0;34m\"Invalid Message:\"\u001b[0m\u001b[0;34m,\u001b[0m \u001b[0mexc_info\u001b[0m\u001b[0;34m=\u001b[0m\u001b[0;32mTrue\u001b[0m\u001b[0;34m)\u001b[0m\u001b[0;34m\u001b[0m\u001b[0;34m\u001b[0m\u001b[0m\n",
            "\u001b[0;31mKeyboardInterrupt\u001b[0m: Interrupted by user"
          ]
        }
      ]
    },
    {
      "cell_type": "code",
      "source": [],
      "metadata": {
        "id": "G47wW_X7INdU"
      },
      "execution_count": null,
      "outputs": []
    }
  ],
  "metadata": {
    "colab": {
      "provenance": []
    },
    "gpuClass": "standard",
    "interpreter": {
      "hash": "d1c2c9eb50c248e284b0bf4da0c34373df9866a584f49a897fbedf2615d148e7"
    },
    "kernelspec": {
      "display_name": "Python 3.9.15 ('azur_rl')",
      "language": "python",
      "name": "python3"
    },
    "language_info": {
      "codemirror_mode": {
        "name": "ipython",
        "version": 3
      },
      "file_extension": ".py",
      "mimetype": "text/x-python",
      "name": "python",
      "nbconvert_exporter": "python",
      "pygments_lexer": "ipython3",
      "version": "3.9.15"
    },
    "orig_nbformat": 4,
    "vscode": {
      "interpreter": {
        "hash": "f17e525a1b89cdee4e3171ca8327284de27969b02e7154590015f5315dfe3283"
      }
    }
  },
  "nbformat": 4,
  "nbformat_minor": 0
}